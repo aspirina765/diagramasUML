{
 "cells": [
  {
   "cell_type": "code",
   "execution_count": 4,
   "metadata": {},
   "outputs": [],
   "source": [
    "# !pip install iplantuml"
   ]
  },
  {
   "cell_type": "code",
   "execution_count": 5,
   "metadata": {},
   "outputs": [],
   "source": [
    "import iplantuml"
   ]
  },
  {
   "cell_type": "code",
   "execution_count": 16,
   "metadata": {},
   "outputs": [
    {
     "data": {
      "image/svg+xml": "<svg xmlns=\"http://www.w3.org/2000/svg\" xmlns:xlink=\"http://www.w3.org/1999/xlink\" contentStyleType=\"text/css\" height=\"455px\" preserveAspectRatio=\"none\" style=\"width:138px;height:455px;background:#FFFFFF;\" version=\"1.1\" viewBox=\"0 0 138 455\" width=\"138px\" zoomAndPan=\"magnify\"><defs/><g><rect height=\"26.2969\" style=\"stroke:#00000000;stroke-width:1.0;fill:none;\" width=\"54\" x=\"40.5\" y=\"15\"/><text fill=\"#000000\" font-family=\"sans-serif\" font-size=\"14\" font-weight=\"bold\" lengthAdjust=\"spacing\" textLength=\"44\" x=\"45.5\" y=\"32.9951\">Titulo</text><ellipse cx=\"60\" cy=\"57.2969\" fill=\"#222222\" rx=\"10\" ry=\"10\" style=\"stroke:#222222;stroke-width:1.0;\"/><rect fill=\"#F1F1F1\" height=\"33.9688\" rx=\"12.5\" ry=\"12.5\" style=\"stroke:#181818;stroke-width:0.5;\" width=\"28\" x=\"46\" y=\"87.2969\"/><text fill=\"#000000\" font-family=\"sans-serif\" font-size=\"12\" lengthAdjust=\"spacing\" textLength=\"8\" x=\"56\" y=\"108.4355\">A</text><rect fill=\"#F1F1F1\" height=\"33.9688\" rx=\"12.5\" ry=\"12.5\" style=\"stroke:#181818;stroke-width:0.5;\" width=\"28\" x=\"46\" y=\"141.2656\"/><text fill=\"#000000\" font-family=\"sans-serif\" font-size=\"12\" lengthAdjust=\"spacing\" textLength=\"8\" x=\"56\" y=\"162.4043\">B</text><rect fill=\"#F1F1F1\" height=\"33.9688\" rx=\"12.5\" ry=\"12.5\" style=\"stroke:#181818;stroke-width:0.5;\" width=\"28\" x=\"46\" y=\"243.6367\"/><text fill=\"#000000\" font-family=\"sans-serif\" font-size=\"12\" lengthAdjust=\"spacing\" textLength=\"8\" x=\"56\" y=\"264.7754\">C</text><ellipse cx=\"60\" cy=\"317.1211\" rx=\"11\" ry=\"11\" style=\"stroke:#222222;stroke-width:1.0;fill:none;\"/><ellipse cx=\"60\" cy=\"317.1211\" fill=\"#222222\" rx=\"6\" ry=\"6\" style=\"stroke:#111111;stroke-width:1.0;\"/><polygon fill=\"#F1F1F1\" points=\"32,195.2344,88,195.2344,100,207.2344,88,219.2344,32,219.2344,20,207.2344,32,195.2344\" style=\"stroke:#181818;stroke-width:0.5;\"/><text fill=\"#000000\" font-family=\"sans-serif\" font-size=\"11\" lengthAdjust=\"spacing\" textLength=\"21\" x=\"64\" y=\"229.4448\">sim</text><text fill=\"#000000\" font-family=\"sans-serif\" font-size=\"11\" lengthAdjust=\"spacing\" textLength=\"56\" x=\"32\" y=\"211.0425\">condicao?</text><rect fill=\"#F1F1F1\" height=\"33.9688\" rx=\"12.5\" ry=\"12.5\" style=\"stroke:#181818;stroke-width:0.5;\" width=\"29\" x=\"45.5\" y=\"370.1211\"/><text fill=\"#000000\" font-family=\"sans-serif\" font-size=\"12\" lengthAdjust=\"spacing\" textLength=\"9\" x=\"55.5\" y=\"391.2598\">D</text><ellipse cx=\"60\" cy=\"434.0898\" rx=\"10\" ry=\"10\" style=\"stroke:#222222;stroke-width:1.5;fill:none;\"/><line style=\"stroke:#222222;stroke-width:2.5;fill:none;\" x1=\"53.8128\" x2=\"66.1872\" y1=\"427.9027\" y2=\"440.277\"/><line style=\"stroke:#222222;stroke-width:2.5;fill:none;\" x1=\"66.1872\" x2=\"53.8128\" y1=\"427.9027\" y2=\"440.277\"/><line style=\"stroke:#181818;stroke-width:1.0;fill:none;\" x1=\"60\" x2=\"60\" y1=\"67.2969\" y2=\"87.2969\"/><polygon fill=\"#181818\" points=\"56,77.2969,60,87.2969,64,77.2969,60,81.2969\" style=\"stroke:#181818;stroke-width:1.0;\"/><line style=\"stroke:#181818;stroke-width:1.0;\" x1=\"60\" x2=\"60\" y1=\"121.2656\" y2=\"141.2656\"/><polygon fill=\"#181818\" points=\"56,131.2656,60,141.2656,64,131.2656,60,135.2656\" style=\"stroke:#181818;stroke-width:1.0;\"/><line style=\"stroke:#181818;stroke-width:1.0;\" x1=\"60\" x2=\"60\" y1=\"277.6055\" y2=\"306.1211\"/><polygon fill=\"#181818\" points=\"56,296.1211,60,306.1211,64,296.1211,60,300.1211\" style=\"stroke:#181818;stroke-width:1.0;\"/><line style=\"stroke:#181818;stroke-width:1.0;\" x1=\"60\" x2=\"60\" y1=\"219.2344\" y2=\"243.6367\"/><polygon fill=\"#181818\" points=\"56,233.6367,60,243.6367,64,233.6367,60,237.6367\" style=\"stroke:#181818;stroke-width:1.0;\"/><line style=\"stroke:#181818;stroke-width:1.0;\" x1=\"100\" x2=\"112\" y1=\"207.2344\" y2=\"207.2344\"/><polygon fill=\"#181818\" points=\"108,276.1211,112,286.1211,116,276.1211,112,280.1211\" style=\"stroke:#181818;stroke-width:1.0;\"/><line style=\"stroke:#181818;stroke-width:1.0;\" x1=\"112\" x2=\"112\" y1=\"207.2344\" y2=\"350.1211\"/><line style=\"stroke:#181818;stroke-width:1.0;\" x1=\"112\" x2=\"60\" y1=\"350.1211\" y2=\"350.1211\"/><line style=\"stroke:#181818;stroke-width:1.0;\" x1=\"60\" x2=\"60\" y1=\"350.1211\" y2=\"370.1211\"/><polygon fill=\"#181818\" points=\"56,360.1211,60,370.1211,64,360.1211,60,364.1211\" style=\"stroke:#181818;stroke-width:1.0;\"/><line style=\"stroke:#181818;stroke-width:1.0;\" x1=\"60\" x2=\"60\" y1=\"175.2344\" y2=\"195.2344\"/><polygon fill=\"#181818\" points=\"56,185.2344,60,195.2344,64,185.2344,60,189.2344\" style=\"stroke:#181818;stroke-width:1.0;\"/><line style=\"stroke:#181818;stroke-width:1.0;\" x1=\"60\" x2=\"60\" y1=\"404.0898\" y2=\"424.0898\"/><polygon fill=\"#181818\" points=\"56,414.0898,60,424.0898,64,414.0898,60,418.0898\" style=\"stroke:#181818;stroke-width:1.0;\"/><!--MD5=[d7ad33f06ba05c9ac8b0067a7ba01795]\n@startuml \ntitle Titulo\nstart \n\n:A; \n:B; \n\nif(condicao?) then (sim) \n:C;\nstop \n\n\nendif\n:D;\nend\n\n@enduml \n\nPlantUML version 1.2022.4(Sat Apr 09 10:29:17 BRT 2022)\n(GPL source distribution)\nJava Runtime: OpenJDK Runtime Environment\nJVM: OpenJDK 64-Bit Server VM\nDefault Encoding: UTF-8\nLanguage: pt\nCountry: BR\n--></g></svg>",
      "text/plain": [
       "<IPython.core.display.SVG object>"
      ]
     },
     "execution_count": 16,
     "metadata": {},
     "output_type": "execute_result"
    }
   ],
   "source": [
    "%%plantuml --jar\n",
    "\n",
    "@startuml \n",
    "\n",
    "title Titulo\n",
    "\n",
    "start \n",
    "\n",
    ":A; \n",
    ":B; \n",
    "\n",
    "if(condicao?) then (sim) \n",
    ":C;\n",
    "stop \n",
    "\n",
    "\n",
    "endif\n",
    ":D;\n",
    "end\n",
    "\n",
    "@enduml "
   ]
  }
 ],
 "metadata": {
  "kernelspec": {
   "display_name": "Python 3.8.12 ('plantuml')",
   "language": "python",
   "name": "python3"
  },
  "language_info": {
   "codemirror_mode": {
    "name": "ipython",
    "version": 3
   },
   "file_extension": ".py",
   "mimetype": "text/x-python",
   "name": "python",
   "nbconvert_exporter": "python",
   "pygments_lexer": "ipython3",
   "version": "3.8.12"
  },
  "orig_nbformat": 4,
  "vscode": {
   "interpreter": {
    "hash": "c810abf335472ed916668a7938f6b9beaa32f30d80777c51d22e384e1170df51"
   }
  }
 },
 "nbformat": 4,
 "nbformat_minor": 2
}
