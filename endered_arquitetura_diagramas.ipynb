{
 "cells": [
  {
   "cell_type": "code",
   "execution_count": null,
   "id": "be8ab12e",
   "metadata": {},
   "outputs": [],
   "source": [
    "# !pip install iplantuml"
   ]
  },
  {
   "cell_type": "markdown",
   "id": "ced6054a",
   "metadata": {},
   "source": [
    "## Impotação de bibliotecas "
   ]
  },
  {
   "cell_type": "code",
   "execution_count": 6,
   "id": "e934aac7",
   "metadata": {},
   "outputs": [],
   "source": [
    "import iplantuml"
   ]
  },
  {
   "cell_type": "markdown",
   "id": "b2b3ae59",
   "metadata": {},
   "source": [
    "## Configuração de serviços - CanalSeguro "
   ]
  },
  {
   "cell_type": "markdown",
   "id": "ec4d25ba",
   "metadata": {},
   "source": [
    "### 1. Linked Service "
   ]
  },
  {
   "cell_type": "code",
   "execution_count": 55,
   "id": "a58c3b62",
   "metadata": {},
   "outputs": [
    {
     "data": {
      "image/svg+xml": "<svg xmlns=\"http://www.w3.org/2000/svg\" xmlns:xlink=\"http://www.w3.org/1999/xlink\" contentStyleType=\"text/css\" height=\"701px\" preserveAspectRatio=\"none\" style=\"width:651px;height:701px;background:#FFFFFF;\" version=\"1.1\" viewBox=\"0 0 651 701\" width=\"651px\" zoomAndPan=\"magnify\"><defs/><g><rect height=\"26.2969\" style=\"stroke:#00000000;stroke-width:1.0;fill:none;\" width=\"482\" x=\"83\" y=\"15\"/><text fill=\"#000000\" font-family=\"sans-serif\" font-size=\"14\" font-weight=\"bold\" lengthAdjust=\"spacing\" textLength=\"472\" x=\"88\" y=\"32.9951\">Arquitetura - Ingestão Planilhas Eletrônicas - Linked Service</text><ellipse cx=\"325\" cy=\"57.2969\" fill=\"#222222\" rx=\"10\" ry=\"10\" style=\"stroke:#222222;stroke-width:1.0;\"/><rect fill=\"#F1F1F1\" height=\"33.9688\" rx=\"12.5\" ry=\"12.5\" style=\"stroke:#181818;stroke-width:0.5;\" width=\"134\" x=\"258\" y=\"87.2969\"/><text fill=\"#000000\" font-family=\"sans-serif\" font-size=\"12\" lengthAdjust=\"spacing\" textLength=\"114\" x=\"268\" y=\"108.4355\">Regra STCP/SFTCP</text><rect fill=\"none\" height=\"559.5469\" style=\"stroke:#000000;stroke-width:1.5;\" width=\"628\" x=\"11\" y=\"131.2656\"/><line style=\"stroke:#000000;stroke-width:1.5;\" x1=\"11\" x2=\"639\" y1=\"151.5625\" y2=\"151.5625\"/><text fill=\"#000000\" font-family=\"sans-serif\" font-size=\"14\" lengthAdjust=\"spacing\" textLength=\"194\" x=\"228\" y=\"146.2607\">Configuração Linked Service</text><rect fill=\"#F1F1F1\" height=\"33.9688\" rx=\"12.5\" ry=\"12.5\" style=\"stroke:#181818;stroke-width:0.5;\" width=\"113\" x=\"268.5\" y=\"167.5625\"/><text fill=\"#000000\" font-family=\"sans-serif\" font-size=\"12\" lengthAdjust=\"spacing\" textLength=\"89\" x=\"278.5\" y=\"188.7012\">Linked Service</text><rect fill=\"#F1F1F1\" height=\"33.9688\" rx=\"12.5\" ry=\"12.5\" style=\"stroke:#181818;stroke-width:0.5;\" width=\"56\" x=\"297\" y=\"236.5313\"/><text fill=\"#000000\" font-family=\"sans-serif\" font-size=\"12\" lengthAdjust=\"spacing\" textLength=\"36\" x=\"307\" y=\"257.6699\">+New</text><rect fill=\"#F1F1F1\" height=\"33.9688\" rx=\"12.5\" ry=\"12.5\" style=\"stroke:#181818;stroke-width:0.5;\" width=\"79\" x=\"285.5\" y=\"305.5\"/><text fill=\"#000000\" font-family=\"sans-serif\" font-size=\"12\" lengthAdjust=\"spacing\" textLength=\"59\" x=\"295.5\" y=\"326.6387\">FileSytem</text><rect fill=\"#F1F1F1\" height=\"33.9688\" rx=\"12.5\" ry=\"12.5\" style=\"stroke:#181818;stroke-width:0.5;\" width=\"240\" x=\"205\" y=\"374.4688\"/><text fill=\"#000000\" font-family=\"sans-serif\" font-size=\"12\" lengthAdjust=\"spacing\" textLength=\"220\" x=\"215\" y=\"395.6074\">Connection via Integration Runtime</text><line style=\"stroke:#181818;stroke-width:1.5;\" x1=\"84.5\" x2=\"325\" y1=\"443.4375\" y2=\"443.4375\"/><rect fill=\"#F1F1F1\" height=\"33.9688\" rx=\"12.5\" ry=\"12.5\" style=\"stroke:#181818;stroke-width:0.5;\" width=\"99\" x=\"35\" y=\"540.8906\"/><text fill=\"#000000\" font-family=\"sans-serif\" font-size=\"12\" lengthAdjust=\"spacing\" textLength=\"79\" x=\"45\" y=\"562.0293\">SELFHOSTED</text><rect fill=\"#F1F1F1\" height=\"33.9688\" rx=\"12.5\" ry=\"12.5\" style=\"stroke:#181818;stroke-width:0.5;\" width=\"62\" x=\"162\" y=\"540.8906\"/><text fill=\"#000000\" font-family=\"sans-serif\" font-size=\"12\" lengthAdjust=\"spacing\" textLength=\"42\" x=\"172\" y=\"562.0293\">AZURE</text><path d=\"M355,469.3555 L355,477.9219 L335,481.9219 L355,485.9219 L355,494.4883 A0,0 0 0 0 355,494.4883 L545,494.4883 A0,0 0 0 0 545,494.4883 L545,479.3555 L535,469.3555 L355,469.3555 A0,0 0 0 0 355,469.3555 \" fill=\"#FEFFDD\" style=\"stroke:#181818;stroke-width:0.5;\"/><path d=\"M535,469.3555 L535,479.3555 L545,479.3555 L535,469.3555 \" fill=\"#FEFFDD\" style=\"stroke:#181818;stroke-width:0.5;\"/><text fill=\"#000000\" font-family=\"sans-serif\" font-size=\"13\" lengthAdjust=\"spacing\" textLength=\"169\" x=\"361\" y=\"486.4224\">Tem acesso ao Filesystem</text><rect fill=\"#F1F1F1\" height=\"33.9688\" rx=\"12.5\" ry=\"12.5\" style=\"stroke:#181818;stroke-width:0.5;\" width=\"73\" x=\"262\" y=\"464.9375\"/><text fill=\"#000000\" font-family=\"sans-serif\" font-size=\"12\" lengthAdjust=\"spacing\" textLength=\"53\" x=\"272\" y=\"486.0762\">SHIR-IBM</text><path d=\"M365,544.7266 L365,560.8594 L345,564.8594 L365,568.8594 L365,584.9922 A0,0 0 0 0 365,584.9922 L615,584.9922 A0,0 0 0 0 615,584.9922 L615,554.7266 L605,544.7266 L365,544.7266 A0,0 0 0 0 365,544.7266 \" fill=\"#FEFFDD\" style=\"stroke:#181818;stroke-width:0.5;\"/><path d=\"M605,544.7266 L605,554.7266 L615,554.7266 L605,544.7266 \" fill=\"#FEFFDD\" style=\"stroke:#181818;stroke-width:0.5;\"/><text fill=\"#000000\" font-family=\"sans-serif\" font-size=\"13\" lengthAdjust=\"spacing\" textLength=\"167\" x=\"371\" y=\"561.7935\">Usar IP evita config. STCP.</text><text fill=\"#000000\" font-family=\"sans-serif\" font-size=\"13\" lengthAdjust=\"spacing\" textLength=\"229\" x=\"371\" y=\"576.9263\">Exemplo de host: C:/csccontainer/...</text><rect fill=\"#F1F1F1\" height=\"61.9063\" rx=\"12.5\" ry=\"12.5\" style=\"stroke:#181818;stroke-width:0.5;\" width=\"93\" x=\"252\" y=\"533.9063\"/><text fill=\"#000000\" font-family=\"sans-serif\" font-size=\"12\" lengthAdjust=\"spacing\" textLength=\"37\" x=\"262\" y=\"555.0449\">HOST:</text><text fill=\"#000000\" font-family=\"sans-serif\" font-size=\"12\" lengthAdjust=\"spacing\" textLength=\"72\" x=\"262\" y=\"569.0137\">USERNAME:</text><text fill=\"#000000\" font-family=\"sans-serif\" font-size=\"12\" lengthAdjust=\"spacing\" textLength=\"73\" x=\"262\" y=\"582.9824\">PASSWORD:</text><ellipse cx=\"298.5\" cy=\"640.8125\" rx=\"10\" ry=\"10\" style=\"stroke:#222222;stroke-width:1.5;fill:none;\"/><line style=\"stroke:#222222;stroke-width:2.5;fill:none;\" x1=\"292.3128\" x2=\"304.6872\" y1=\"634.6253\" y2=\"646.9997\"/><line style=\"stroke:#222222;stroke-width:2.5;fill:none;\" x1=\"304.6872\" x2=\"292.3128\" y1=\"634.6253\" y2=\"646.9997\"/><line style=\"stroke:#181818;stroke-width:1.0;fill:none;\" x1=\"325\" x2=\"325\" y1=\"67.2969\" y2=\"87.2969\"/><polygon fill=\"#181818\" points=\"321,77.2969,325,87.2969,329,77.2969,325,81.2969\" style=\"stroke:#181818;stroke-width:1.0;\"/><line style=\"stroke:#181818;stroke-width:1.0;\" x1=\"325\" x2=\"325\" y1=\"201.5313\" y2=\"236.5313\"/><polygon fill=\"#181818\" points=\"321,226.5313,325,236.5313,329,226.5313,325,230.5313\" style=\"stroke:#181818;stroke-width:1.0;\"/><line style=\"stroke:#181818;stroke-width:1.0;\" x1=\"325\" x2=\"325\" y1=\"270.5\" y2=\"305.5\"/><polygon fill=\"#181818\" points=\"321,295.5,325,305.5,329,295.5,325,299.5\" style=\"stroke:#181818;stroke-width:1.0;\"/><line style=\"stroke:#181818;stroke-width:1.0;\" x1=\"325\" x2=\"325\" y1=\"339.4688\" y2=\"374.4688\"/><polygon fill=\"#181818\" points=\"321,364.4688,325,374.4688,329,364.4688,325,368.4688\" style=\"stroke:#181818;stroke-width:1.0;\"/><line style=\"stroke:#181818;stroke-width:1.0;\" x1=\"298.5\" x2=\"298.5\" y1=\"498.9063\" y2=\"533.9063\"/><polygon fill=\"#181818\" points=\"294.5,523.9063,298.5,533.9063,302.5,523.9063,298.5,527.9063\" style=\"stroke:#181818;stroke-width:1.0;\"/><line style=\"stroke:#181818;stroke-width:1.0;\" x1=\"298.5\" x2=\"298.5\" y1=\"595.8125\" y2=\"630.8125\"/><polygon fill=\"#181818\" points=\"294.5,620.8125,298.5,630.8125,302.5,620.8125,298.5,624.8125\" style=\"stroke:#181818;stroke-width:1.0;\"/><line style=\"stroke:#181818;stroke-width:1.0;\" x1=\"84.5\" x2=\"84.5\" y1=\"444.9375\" y2=\"540.8906\"/><polygon fill=\"#181818\" points=\"80.5,530.8906,84.5,540.8906,88.5,530.8906,84.5,534.8906\" style=\"stroke:#181818;stroke-width:1.0;\"/><line style=\"stroke:#181818;stroke-width:1.0;\" x1=\"193\" x2=\"193\" y1=\"444.9375\" y2=\"540.8906\"/><polygon fill=\"#181818\" points=\"189,530.8906,193,540.8906,197,530.8906,193,534.8906\" style=\"stroke:#181818;stroke-width:1.0;\"/><line style=\"stroke:#181818;stroke-width:1.0;\" x1=\"298.5\" x2=\"298.5\" y1=\"444.9375\" y2=\"464.9375\"/><polygon fill=\"#181818\" points=\"294.5,454.9375,298.5,464.9375,302.5,454.9375,298.5,458.9375\" style=\"stroke:#181818;stroke-width:1.0;\"/><line style=\"stroke:#181818;stroke-width:1.0;\" x1=\"325\" x2=\"325\" y1=\"408.4375\" y2=\"443.4375\"/><polygon fill=\"#181818\" points=\"321,433.4375,325,443.4375,329,433.4375,325,437.4375\" style=\"stroke:#181818;stroke-width:1.0;\"/><line style=\"stroke:#181818;stroke-width:1.0;\" x1=\"325\" x2=\"325\" y1=\"121.2656\" y2=\"167.5625\"/><polygon fill=\"#181818\" points=\"321,157.5625,325,167.5625,329,157.5625,325,161.5625\" style=\"stroke:#181818;stroke-width:1.0;\"/><!--MD5=[9025bb6a9496b2d7824bd205f9a377af]\n@startuml \n\ntitle Arquitetura - Ingestão Planilhas Eletrônicas - Linked Service\nstart\n:Regra STCP/SFTCP;\ncard \"Configuração Linked Service\" { \n\n:Linked Service ; \n:+New;\n:FileSytem;\n:Connection via Integration Runtime;\nsplit\n\n:SELFHOSTED;\n\nkill\nsplit again\n:AZURE;\ndetach\nsplit again\n:SHIR-IBM;\nnote right\nTem acesso ao Filesystem\nend note\n:HOST:\nUSERNAME:\nPASSWORD:;\nnote right\nUsar IP evita config. STCP. \nExemplo de host: C:/csccontainer/...\nend note\nend\nend split\n\n}\n\n@enduml \n\nPlantUML version 1.2022.4(Sat Apr 09 10:29:17 BRT 2022)\n(GPL source distribution)\nJava Runtime: OpenJDK Runtime Environment\nJVM: OpenJDK 64-Bit Server VM\nDefault Encoding: UTF-8\nLanguage: pt\nCountry: BR\n--></g></svg>",
      "text/plain": [
       "<IPython.core.display.SVG object>"
      ]
     },
     "metadata": {},
     "output_type": "display_data"
    }
   ],
   "source": [
    "%%plantuml --jar\n",
    "\n",
    "@startuml \n",
    "\n",
    "title Arquitetura - Ingestão Planilhas Eletrônicas - Linked Service\n",
    "start\n",
    ":Regra STCP/SFTCP;\n",
    "card \"Configuração Linked Service\" { \n",
    "\n",
    ":Linked Service ; \n",
    ":+New;\n",
    ":FileSytem;\n",
    ":Connection via Integration Runtime;\n",
    "split\n",
    "\n",
    ":SELFHOSTED;\n",
    "\n",
    "kill\n",
    "split again\n",
    ":AZURE;\n",
    "detach\n",
    "split again\n",
    ":SHIR-IBM;\n",
    "note right\n",
    "Tem acesso ao Filesystem\n",
    "end note\n",
    ":HOST:\n",
    "USERNAME:\n",
    "PASSWORD:;\n",
    "note right\n",
    "Usar IP evita config. STCP. \n",
    "Exemplo de host: C:/csccontainer/...\n",
    "end note\n",
    "end\n",
    "end split\n",
    "\n",
    "}\n",
    "\n",
    "@enduml "
   ]
  },
  {
   "cell_type": "markdown",
   "id": "4e98fa90",
   "metadata": {},
   "source": [
    "### 2. Dataset"
   ]
  },
  {
   "cell_type": "code",
   "execution_count": 11,
   "id": "f5772fbf",
   "metadata": {},
   "outputs": [
    {
     "data": {
      "image/svg+xml": "<svg xmlns=\"http://www.w3.org/2000/svg\" xmlns:xlink=\"http://www.w3.org/1999/xlink\" contentStyleType=\"text/css\" height=\"759px\" preserveAspectRatio=\"none\" style=\"width:1041px;height:759px;background:#FFFFFF;\" version=\"1.1\" viewBox=\"0 0 1041 759\" width=\"1041px\" zoomAndPan=\"magnify\"><defs/><g><rect height=\"26.2969\" style=\"stroke:#00000000;stroke-width:1.0;fill:none;\" width=\"421\" x=\"308.5\" y=\"15\"/><text fill=\"#000000\" font-family=\"sans-serif\" font-size=\"14\" font-weight=\"bold\" lengthAdjust=\"spacing\" textLength=\"411\" x=\"313.5\" y=\"32.9951\">Arquitetura - Ingestão Planilhas Eletrônicas -Dataset</text><ellipse cx=\"520\" cy=\"57.2969\" fill=\"#222222\" rx=\"10\" ry=\"10\" style=\"stroke:#222222;stroke-width:1.0;\"/><rect fill=\"#F1F1F1\" height=\"33.9688\" rx=\"12.5\" ry=\"12.5\" style=\"stroke:#181818;stroke-width:0.5;\" width=\"188\" x=\"426\" y=\"87.2969\"/><text fill=\"#000000\" font-family=\"sans-serif\" font-size=\"12\" lengthAdjust=\"spacing\" textLength=\"168\" x=\"436\" y=\"108.4355\">Linked Service configurado</text><rect fill=\"none\" height=\"616.9219\" style=\"stroke:#000000;stroke-width:1.5;\" width=\"1018\" x=\"11\" y=\"131.2656\"/><line style=\"stroke:#000000;stroke-width:1.5;\" x1=\"11\" x2=\"1029\" y1=\"151.5625\" y2=\"151.5625\"/><text fill=\"#000000\" font-family=\"sans-serif\" font-size=\"14\" lengthAdjust=\"spacing\" textLength=\"149\" x=\"445.5\" y=\"146.2607\">Configuração Dataset</text><rect fill=\"#F1F1F1\" height=\"33.9688\" rx=\"12.5\" ry=\"12.5\" style=\"stroke:#181818;stroke-width:0.5;\" width=\"81\" x=\"479.5\" y=\"167.5625\"/><text fill=\"#000000\" font-family=\"sans-serif\" font-size=\"12\" lengthAdjust=\"spacing\" textLength=\"57\" x=\"489.5\" y=\"188.7012\">Datasets</text><rect fill=\"#F1F1F1\" height=\"33.9688\" rx=\"12.5\" ry=\"12.5\" style=\"stroke:#181818;stroke-width:0.5;\" width=\"84\" x=\"478\" y=\"236.5313\"/><text fill=\"#000000\" font-family=\"sans-serif\" font-size=\"12\" lengthAdjust=\"spacing\" textLength=\"64\" x=\"488\" y=\"257.6699\">Copy Data</text><line style=\"stroke:#181818;stroke-width:1.5;\" x1=\"354.5\" x2=\"837\" y1=\"305.5\" y2=\"305.5\"/><rect fill=\"#F1F1F1\" height=\"75.875\" rx=\"12.5\" ry=\"12.5\" style=\"stroke:#181818;stroke-width:0.5;\" width=\"250\" x=\"229.5\" y=\"327\"/><text fill=\"#000000\" font-family=\"sans-serif\" font-size=\"12\" font-weight=\"bold\" lengthAdjust=\"spacing\" textLength=\"110\" x=\"239.5\" y=\"348.1387\">Source Dataset</text><text fill=\"#000000\" font-family=\"sans-serif\" font-size=\"12\" lengthAdjust=\"spacing\" textLength=\"116\" x=\"353.5\" y=\"348.1387\">- pre_landing_zone</text><text fill=\"#000000\" font-family=\"sans-serif\" font-size=\"12\" lengthAdjust=\"spacing\" textLength=\"36\" x=\"239.5\" y=\"362.1074\">Name</text><text fill=\"#000000\" font-family=\"sans-serif\" font-size=\"12\" lengthAdjust=\"spacing\" textLength=\"201\" x=\"239.5\" y=\"376.0762\">Connect via Integration Runtime</text><text fill=\"#000000\" font-family=\"sans-serif\" font-size=\"12\" lengthAdjust=\"spacing\" textLength=\"56\" x=\"239.5\" y=\"390.0449\">File_path</text><rect fill=\"#F1F1F1\" height=\"33.9688\" rx=\"12.5\" ry=\"12.5\" style=\"stroke:#181818;stroke-width:0.5;\" width=\"85\" x=\"312\" y=\"437.875\"/><text fill=\"#000000\" font-family=\"sans-serif\" font-size=\"12\" lengthAdjust=\"spacing\" textLength=\"65\" x=\"322\" y=\"459.0137\">Filesystem</text><path d=\"M75,525.2305 L75,550.3633 A0,0 0 0 0 75,550.3633 L236,550.3633 A0,0 0 0 0 236,550.3633 L236,543.2305 L256,537.7969 L236,535.2305 L236,535.2305 L226,525.2305 L75,525.2305 A0,0 0 0 0 75,525.2305 \" fill=\"#FEFFDD\" style=\"stroke:#181818;stroke-width:0.5;\"/><path d=\"M226,525.2305 L226,535.2305 L236,535.2305 L226,525.2305 \" fill=\"#FEFFDD\" style=\"stroke:#181818;stroke-width:0.5;\"/><text fill=\"#000000\" font-family=\"sans-serif\" font-size=\"13\" lengthAdjust=\"spacing\" textLength=\"140\" x=\"81\" y=\"542.2974\">Exempos de entradas</text><rect fill=\"#F1F1F1\" height=\"61.9063\" rx=\"12.5\" ry=\"12.5\" style=\"stroke:#181818;stroke-width:0.5;\" width=\"197\" x=\"256\" y=\"506.8438\"/><text fill=\"#000000\" font-family=\"sans-serif\" font-size=\"12\" lengthAdjust=\"spacing\" textLength=\"127\" x=\"266\" y=\"527.9824\">Select Format: Excel</text><text fill=\"#000000\" font-family=\"sans-serif\" font-size=\"12\" lengthAdjust=\"spacing\" textLength=\"158\" x=\"266\" y=\"541.9512\">Name: DS_EXCEL_Generic</text><text fill=\"#000000\" font-family=\"sans-serif\" font-size=\"12\" lengthAdjust=\"spacing\" textLength=\"177\" x=\"266\" y=\"555.9199\">Linked Service:FSR_SHIR_IBM</text><path d=\"M35,615.1523 L35,640.2852 A0,0 0 0 0 35,640.2852 L198,640.2852 A0,0 0 0 0 198,640.2852 L198,633.1523 L218,627.7188 L198,625.1523 L198,625.1523 L188,615.1523 L35,615.1523 A0,0 0 0 0 35,615.1523 \" fill=\"#FEFFDD\" style=\"stroke:#181818;stroke-width:0.5;\"/><path d=\"M188,615.1523 L188,625.1523 L198,625.1523 L188,615.1523 \" fill=\"#FEFFDD\" style=\"stroke:#181818;stroke-width:0.5;\"/><text fill=\"#000000\" font-family=\"sans-serif\" font-size=\"13\" lengthAdjust=\"spacing\" textLength=\"142\" x=\"41\" y=\"632.2192\">Depende de chamado</text><rect fill=\"#F1F1F1\" height=\"47.9375\" rx=\"12.5\" ry=\"12.5\" style=\"stroke:#181818;stroke-width:0.5;\" width=\"273\" x=\"218\" y=\"603.75\"/><text fill=\"#000000\" font-family=\"sans-serif\" font-size=\"12\" lengthAdjust=\"spacing\" textLength=\"199\" x=\"228\" y=\"624.8887\">Escolha de diretório/Criar Pasta</text><text fill=\"#000000\" font-family=\"sans-serif\" font-size=\"12\" lengthAdjust=\"spacing\" textLength=\"253\" x=\"228\" y=\"638.8574\">c:/csccontainer/compliance/canalseguro</text><rect fill=\"#F1F1F1\" height=\"47.9375\" rx=\"12.5\" ry=\"12.5\" style=\"stroke:#181818;stroke-width:0.5;\" width=\"336\" x=\"669\" y=\"420.1758\"/><text fill=\"#000000\" font-family=\"sans-serif\" font-size=\"12\" font-weight=\"bold\" lengthAdjust=\"spacing\" textLength=\"30\" x=\"679\" y=\"441.3145\">Sink</text><text fill=\"#000000\" font-family=\"sans-serif\" font-size=\"12\" lengthAdjust=\"spacing\" textLength=\"89\" x=\"713\" y=\"441.3145\">- landing_zone</text><text fill=\"#000000\" font-family=\"sans-serif\" font-size=\"12\" lengthAdjust=\"spacing\" textLength=\"316\" x=\"679\" y=\"455.2832\">Sink dataset: DS_EXCEL_Generic_DataLakeParquet</text><path d=\"M519,503.1133 L519,558.5117 A0,0 0 0 0 519,558.5117 L771,558.5117 A0,0 0 0 0 771,558.5117 L771,534.8125 L791,530.8125 L771,526.8125 L771,513.1133 L761,503.1133 L519,503.1133 A0,0 0 0 0 519,503.1133 \" fill=\"#FEFFDD\" style=\"stroke:#181818;stroke-width:0.5;\"/><path d=\"M761,503.1133 L761,513.1133 L771,513.1133 L761,503.1133 \" fill=\"#FEFFDD\" style=\"stroke:#181818;stroke-width:0.5;\"/><text fill=\"#000000\" font-family=\"sans-serif\" font-size=\"13\" lengthAdjust=\"spacing\" textLength=\"207\" x=\"525\" y=\"520.1802\">Criar pasta(s) na landing_zone e</text><text fill=\"#000000\" font-family=\"sans-serif\" font-size=\"13\" lengthAdjust=\"spacing\" textLength=\"16\" x=\"525\" y=\"535.313\">na</text><text fill=\"#000000\" font-family=\"sans-serif\" font-size=\"13\" font-weight=\"bold\" lengthAdjust=\"spacing\" textLength=\"207\" x=\"545\" y=\"535.313\">tabela de controle de carga</text><text fill=\"#000000\" font-family=\"sans-serif\" font-size=\"13\" lengthAdjust=\"spacing\" textLength=\"4\" x=\"752\" y=\"535.313\">.</text><text fill=\"#000000\" font-family=\"sans-serif\" font-size=\"13\" lengthAdjust=\"spacing\" textLength=\"123\" x=\"525\" y=\"550.4458\">Feito pela Edenred.</text><rect fill=\"#F1F1F1\" height=\"47.9375\" rx=\"12.5\" ry=\"12.5\" style=\"stroke:#181818;stroke-width:0.5;\" width=\"92\" x=\"791\" y=\"506.8438\"/><text fill=\"#000000\" font-family=\"sans-serif\" font-size=\"12\" lengthAdjust=\"spacing\" textLength=\"72\" x=\"801\" y=\"527.9824\">folderName</text><text fill=\"#000000\" font-family=\"sans-serif\" font-size=\"12\" lengthAdjust=\"spacing\" textLength=\"54\" x=\"801\" y=\"541.9512\">fileName</text><line style=\"stroke:#181818;stroke-width:1.5;\" x1=\"354.5\" x2=\"837\" y1=\"671.6875\" y2=\"671.6875\"/><ellipse cx=\"520\" cy=\"718.1875\" rx=\"10\" ry=\"10\" style=\"stroke:#222222;stroke-width:1.5;fill:none;\"/><line style=\"stroke:#222222;stroke-width:2.5;fill:none;\" x1=\"513.8128\" x2=\"526.1872\" y1=\"712.0003\" y2=\"724.3747\"/><line style=\"stroke:#222222;stroke-width:2.5;fill:none;\" x1=\"526.1872\" x2=\"513.8128\" y1=\"712.0003\" y2=\"724.3747\"/><line style=\"stroke:#181818;stroke-width:1.0;fill:none;\" x1=\"520\" x2=\"520\" y1=\"67.2969\" y2=\"87.2969\"/><polygon fill=\"#181818\" points=\"516,77.2969,520,87.2969,524,77.2969,520,81.2969\" style=\"stroke:#181818;stroke-width:1.0;\"/><line style=\"stroke:#181818;stroke-width:1.0;\" x1=\"520\" x2=\"520\" y1=\"201.5313\" y2=\"236.5313\"/><polygon fill=\"#181818\" points=\"516,226.5313,520,236.5313,524,226.5313,520,230.5313\" style=\"stroke:#181818;stroke-width:1.0;\"/><line style=\"stroke:#181818;stroke-width:1.0;\" x1=\"354.5\" x2=\"354.5\" y1=\"402.875\" y2=\"437.875\"/><polygon fill=\"#181818\" points=\"350.5,427.875,354.5,437.875,358.5,427.875,354.5,431.875\" style=\"stroke:#181818;stroke-width:1.0;\"/><line style=\"stroke:#181818;stroke-width:1.0;\" x1=\"354.5\" x2=\"354.5\" y1=\"471.8438\" y2=\"506.8438\"/><polygon fill=\"#181818\" points=\"350.5,496.8438,354.5,506.8438,358.5,496.8438,354.5,500.8438\" style=\"stroke:#181818;stroke-width:1.0;\"/><line style=\"stroke:#181818;stroke-width:1.0;\" x1=\"354.5\" x2=\"354.5\" y1=\"568.75\" y2=\"603.75\"/><polygon fill=\"#181818\" points=\"350.5,593.75,354.5,603.75,358.5,593.75,354.5,597.75\" style=\"stroke:#181818;stroke-width:1.0;\"/><line style=\"stroke:#181818;stroke-width:1.0;\" x1=\"837\" x2=\"837\" y1=\"468.1133\" y2=\"506.8438\"/><polygon fill=\"#181818\" points=\"833,496.8438,837,506.8438,841,496.8438,837,500.8438\" style=\"stroke:#181818;stroke-width:1.0;\"/><line style=\"stroke:#181818;stroke-width:1.0;\" x1=\"354.5\" x2=\"354.5\" y1=\"307\" y2=\"327\"/><polygon fill=\"#181818\" points=\"350.5,317,354.5,327,358.5,317,354.5,321\" style=\"stroke:#181818;stroke-width:1.0;\"/><line style=\"stroke:#181818;stroke-width:1.0;\" x1=\"837\" x2=\"837\" y1=\"307\" y2=\"420.1758\"/><polygon fill=\"#181818\" points=\"833,410.1758,837,420.1758,841,410.1758,837,414.1758\" style=\"stroke:#181818;stroke-width:1.0;\"/><line style=\"stroke:#181818;stroke-width:1.0;\" x1=\"354.5\" x2=\"354.5\" y1=\"651.6875\" y2=\"671.6875\"/><polygon fill=\"#181818\" points=\"350.5,661.6875,354.5,671.6875,358.5,661.6875,354.5,665.6875\" style=\"stroke:#181818;stroke-width:1.0;\"/><line style=\"stroke:#181818;stroke-width:1.0;\" x1=\"837\" x2=\"837\" y1=\"554.7813\" y2=\"671.6875\"/><polygon fill=\"#181818\" points=\"833,661.6875,837,671.6875,841,661.6875,837,665.6875\" style=\"stroke:#181818;stroke-width:1.0;\"/><line style=\"stroke:#181818;stroke-width:1.0;\" x1=\"520\" x2=\"520\" y1=\"270.5\" y2=\"305.5\"/><polygon fill=\"#181818\" points=\"516,295.5,520,305.5,524,295.5,520,299.5\" style=\"stroke:#181818;stroke-width:1.0;\"/><line style=\"stroke:#181818;stroke-width:1.0;\" x1=\"520\" x2=\"520\" y1=\"673.1875\" y2=\"708.1875\"/><polygon fill=\"#181818\" points=\"516,698.1875,520,708.1875,524,698.1875,520,702.1875\" style=\"stroke:#181818;stroke-width:1.0;\"/><line style=\"stroke:#181818;stroke-width:1.0;\" x1=\"520\" x2=\"520\" y1=\"121.2656\" y2=\"167.5625\"/><polygon fill=\"#181818\" points=\"516,157.5625,520,167.5625,524,157.5625,520,161.5625\" style=\"stroke:#181818;stroke-width:1.0;\"/><!--MD5=[afcb70b18d6a5505eb4fcb8e0218fb02]\n@startuml\n\ntitle Arquitetura - Ingestão Planilhas Eletrônicas -Dataset\nstart\n:Linked Service configurado;\ncard \"Configuração Dataset\" { \n:Datasets ; \n:Copy Data;\nsplit\n:**Source Dataset** - pre_landing_zone\nName\nConnect via Integration Runtime\nFile_path;\n:Filesystem;\n:Select Format: Excel\nName: DS_EXCEL_Generic\nLinked Service:FSR_SHIR_IBM;\nnote left\nExempos de entradas\nend note\n:Escolha de diretório/Criar Pasta\nc:/csccontainer/compliance/canalseguro;\nnote left\nDepende de chamado\nend note\nsplit again\n:**Sink** - landing_zone\nSink dataset: DS_EXCEL_Generic_DataLakeParquet;\n:folderName \nfileName;\nnote left \nCriar pasta(s) na landing_zone e \nna **tabela de controle de carga**.\nFeito pela Edenred.\nend note\nend split\nend\n}\n\n@enduml \n\nPlantUML version 1.2022.4(Sat Apr 09 10:29:17 BRT 2022)\n(GPL source distribution)\nJava Runtime: OpenJDK Runtime Environment\nJVM: OpenJDK 64-Bit Server VM\nDefault Encoding: UTF-8\nLanguage: pt\nCountry: BR\n--></g></svg>",
      "text/plain": [
       "<IPython.core.display.SVG object>"
      ]
     },
     "execution_count": 11,
     "metadata": {},
     "output_type": "execute_result"
    }
   ],
   "source": [
    "%%plantuml --jar\n",
    "\n",
    "@startuml\n",
    "\n",
    "title Arquitetura - Ingestão Planilhas Eletrônicas - Dataset\n",
    "start\n",
    ":Linked Service configurado;\n",
    "card \"Configuração Dataset\" { \n",
    ":Datasets ; \n",
    ":Copy Data;\n",
    "split\n",
    ":**Source Dataset** - pre_landing_zone\n",
    "Name\n",
    "Connect via Integration Runtime\n",
    "File_path;\n",
    ":Filesystem;\n",
    ":Select Format: Excel\n",
    "Name: DS_EXCEL_Generic\n",
    "Linked Service:FSR_SHIR_IBM;\n",
    "note left\n",
    "Exempos de entradas\n",
    "end note\n",
    ":Escolha de diretório/Criar Pasta\n",
    "c:/csccontainer/compliance/canalseguro;\n",
    "note left\n",
    "Depende de chamado\n",
    "end note\n",
    "split again\n",
    ":**Sink** - landing_zone\n",
    "Sink dataset: DS_EXCEL_Generic_DataLakeParquet;\n",
    ":folderName \n",
    "fileName;\n",
    "note left \n",
    "Criar pasta(s) na landing_zone e \n",
    "na **tabela de controle de carga**.\n",
    "Feito pela Edenred.\n",
    "end note\n",
    "end split\n",
    "end\n",
    "}\n",
    "\n",
    "@enduml "
   ]
  },
  {
   "cell_type": "markdown",
   "id": "76363782",
   "metadata": {},
   "source": [
    "### 3. Pipeline"
   ]
  },
  {
   "cell_type": "code",
   "execution_count": 13,
   "id": "6447a49a",
   "metadata": {},
   "outputs": [
    {
     "data": {
      "image/svg+xml": "<svg xmlns=\"http://www.w3.org/2000/svg\" xmlns:xlink=\"http://www.w3.org/1999/xlink\" contentStyleType=\"text/css\" height=\"2299px\" preserveAspectRatio=\"none\" style=\"width:1151px;height:2299px;background:#FFFFFF;\" version=\"1.1\" viewBox=\"0 0 1151 2299\" width=\"1151px\" zoomAndPan=\"magnify\"><defs/><g><rect height=\"26.2969\" style=\"stroke:#00000000;stroke-width:1.0;fill:none;\" width=\"428\" x=\"360.25\" y=\"15\"/><text fill=\"#000000\" font-family=\"sans-serif\" font-size=\"14\" font-weight=\"bold\" lengthAdjust=\"spacing\" textLength=\"418\" x=\"365.25\" y=\"32.9951\">Arquitetura - Ingestão Planilhas Eletrônicas - Pipeline</text><ellipse cx=\"789.5\" cy=\"57.2969\" fill=\"#222222\" rx=\"10\" ry=\"10\" style=\"stroke:#222222;stroke-width:1.0;\"/><rect fill=\"#F1F1F1\" height=\"33.9688\" rx=\"12.5\" ry=\"12.5\" style=\"stroke:#181818;stroke-width:0.5;\" width=\"261\" x=\"659\" y=\"87.2969\"/><text fill=\"#000000\" font-family=\"sans-serif\" font-size=\"12\" lengthAdjust=\"spacing\" textLength=\"241\" x=\"669\" y=\"108.4355\">Linked Service e Dataset configurados</text><rect fill=\"none\" height=\"2157.2891\" style=\"stroke:#000000;stroke-width:1.5;\" width=\"1128.5\" x=\"11\" y=\"131.2656\"/><line style=\"stroke:#000000;stroke-width:1.5;\" x1=\"11\" x2=\"1139.5\" y1=\"151.5625\" y2=\"151.5625\"/><text fill=\"#000000\" font-family=\"sans-serif\" font-size=\"14\" lengthAdjust=\"spacing\" textLength=\"149\" x=\"500.75\" y=\"146.2607\">Configuração Pipeline</text><rect fill=\"#F1F1F1\" height=\"33.9688\" rx=\"12.5\" ry=\"12.5\" style=\"stroke:#181818;stroke-width:0.5;\" width=\"73\" x=\"753\" y=\"167.5625\"/><text fill=\"#000000\" font-family=\"sans-serif\" font-size=\"12\" lengthAdjust=\"spacing\" textLength=\"49\" x=\"763\" y=\"188.7012\">Pipeline</text><rect fill=\"#F1F1F1\" height=\"33.9688\" rx=\"12.5\" ry=\"12.5\" style=\"stroke:#181818;stroke-width:0.5;\" width=\"105\" x=\"737\" y=\"236.5313\"/><text fill=\"#000000\" font-family=\"sans-serif\" font-size=\"12\" lengthAdjust=\"spacing\" textLength=\"85\" x=\"747\" y=\"257.6699\">Create Folder</text><rect fill=\"#F1F1F1\" height=\"33.9688\" rx=\"12.5\" ry=\"12.5\" style=\"stroke:#181818;stroke-width:0.5;\" width=\"296\" x=\"641.5\" y=\"305.5\"/><text fill=\"#000000\" font-family=\"sans-serif\" font-size=\"12\" lengthAdjust=\"spacing\" textLength=\"276\" x=\"651.5\" y=\"326.6387\">Clonar Pipeline pronto (modelo) e renomear</text><path d=\"M425.5,422.4336 L425.5,462.6992 L676.5,462.6992 L676.5,432.4336 L666.5,422.4336 L425.5,422.4336 \" fill=\"#FEFFDD\" style=\"stroke:#181818;stroke-width:0.5;\"/><path d=\"M666.5,422.4336 L666.5,432.4336 L676.5,432.4336 L666.5,422.4336 \" fill=\"#FEFFDD\" style=\"stroke:#181818;stroke-width:0.5;\"/><text fill=\"#000000\" font-family=\"sans-serif\" font-size=\"13\" lengthAdjust=\"spacing\" textLength=\"226\" x=\"431.5\" y=\"439.5005\">É igual ao &quot;Source Environment&quot; da</text><text fill=\"#000000\" font-family=\"sans-serif\" font-size=\"13\" lengthAdjust=\"spacing\" textLength=\"120\" x=\"431.5\" y=\"454.6333\">tabela de controle.</text><path d=\"M422.5,482.6992 L422.5,507.832 L679.5,507.832 L679.5,492.6992 L669.5,482.6992 L422.5,482.6992 \" fill=\"#FEFFDD\" style=\"stroke:#181818;stroke-width:0.5;\"/><path d=\"M669.5,482.6992 L669.5,492.6992 L679.5,492.6992 L669.5,482.6992 \" fill=\"#FEFFDD\" style=\"stroke:#181818;stroke-width:0.5;\"/><text fill=\"#000000\" font-family=\"sans-serif\" font-size=\"13\" lengthAdjust=\"spacing\" textLength=\"236\" x=\"428.5\" y=\"499.7661\">Possui política de retry em &quot;Settings&quot;</text><path d=\"M899.5,384.4688 L899.5,545.7969 L1119.5,545.7969 L1119.5,394.4688 L1109.5,384.4688 L899.5,384.4688 \" fill=\"#FEFFDD\" style=\"stroke:#181818;stroke-width:0.5;\"/><path d=\"M1109.5,384.4688 L1109.5,394.4688 L1119.5,394.4688 L1109.5,384.4688 \" fill=\"#FEFFDD\" style=\"stroke:#181818;stroke-width:0.5;\"/><text fill=\"#000000\" font-family=\"sans-serif\" font-size=\"13\" lengthAdjust=\"spacing\" textLength=\"118\" x=\"905.5\" y=\"401.5356\">Tabela de controle</text><text fill=\"#000000\" font-family=\"sans-serif\" font-size=\"13\" lengthAdjust=\"spacing\" textLength=\"10\" x=\"905.5\" y=\"416.6685\">--</text><text fill=\"#000000\" font-family=\"sans-serif\" font-size=\"13\" lengthAdjust=\"spacing\" textLength=\"83\" x=\"905.5\" y=\"431.8013\">BusinessUnit</text><text fill=\"#000000\" font-family=\"sans-serif\" font-size=\"13\" lengthAdjust=\"spacing\" textLength=\"102\" x=\"905.5\" y=\"446.9341\">DataBaseName</text><text fill=\"#000000\" font-family=\"sans-serif\" font-size=\"13\" lengthAdjust=\"spacing\" textLength=\"92\" x=\"905.5\" y=\"462.0669\">SchemaName</text><text fill=\"#000000\" font-family=\"sans-serif\" font-size=\"13\" lengthAdjust=\"spacing\" textLength=\"73\" x=\"905.5\" y=\"477.1997\">TableName</text><text fill=\"#000000\" font-family=\"sans-serif\" font-size=\"13\" lengthAdjust=\"spacing\" textLength=\"96\" x=\"905.5\" y=\"492.3325\">ProcessSucess</text><text fill=\"#000000\" font-family=\"sans-serif\" font-size=\"13\" lengthAdjust=\"spacing\" textLength=\"93\" x=\"905.5\" y=\"507.4653\">ProcessEnable</text><text fill=\"#000000\" font-family=\"sans-serif\" font-size=\"13\" lengthAdjust=\"spacing\" textLength=\"199\" x=\"905.5\" y=\"522.5981\">Zone (LANDING para BRONZE)</text><text fill=\"#000000\" font-family=\"sans-serif\" font-size=\"13\" lengthAdjust=\"spacing\" textLength=\"147\" x=\"905.5\" y=\"537.731\">LoadingType (APPEND)</text><rect fill=\"#F1F1F1\" height=\"47.9375\" rx=\"12.5\" ry=\"12.5\" style=\"stroke:#181818;stroke-width:0.5;\" width=\"200\" x=\"689.5\" y=\"441.1641\"/><text fill=\"#000000\" font-family=\"sans-serif\" font-size=\"12\" lengthAdjust=\"spacing\" textLength=\"73\" x=\"699.5\" y=\"462.3027\">Parameters</text><text fill=\"#000000\" font-family=\"sans-serif\" font-size=\"12\" lengthAdjust=\"spacing\" textLength=\"180\" x=\"699.5\" y=\"476.2715\">Default value: CANALSEGURO</text><rect fill=\"none\" height=\"1497.4922\" style=\"stroke:#000000;stroke-width:1.5;\" width=\"971\" x=\"21\" y=\"590.7969\"/><line style=\"stroke:#000000;stroke-width:1.5;\" x1=\"21\" x2=\"992\" y1=\"611.0938\" y2=\"611.0938\"/><text fill=\"#000000\" font-family=\"sans-serif\" font-size=\"14\" lengthAdjust=\"spacing\" textLength=\"54\" x=\"479.5\" y=\"605.792\">Pipeline</text><rect fill=\"none\" height=\"90.2656\" style=\"stroke:#000000;stroke-width:1.5;\" width=\"137\" x=\"721\" y=\"627.0938\"/><line style=\"stroke:#000000;stroke-width:1.5;\" x1=\"721\" x2=\"858\" y1=\"647.3906\" y2=\"647.3906\"/><text fill=\"#000000\" font-family=\"sans-serif\" font-size=\"14\" lengthAdjust=\"spacing\" textLength=\"77\" x=\"751\" y=\"642.0889\">SetVariable</text><rect fill=\"#F1F1F1\" height=\"33.9688\" rx=\"12.5\" ry=\"12.5\" style=\"stroke:#181818;stroke-width:0.5;\" width=\"117\" x=\"731\" y=\"663.3906\"/><text fill=\"#000000\" font-family=\"sans-serif\" font-size=\"12\" lengthAdjust=\"spacing\" textLength=\"97\" x=\"741\" y=\"684.5293\">SetCurrentTime</text><rect fill=\"none\" height=\"90.2656\" style=\"stroke:#000000;stroke-width:1.5;\" width=\"129\" x=\"725\" y=\"752.3594\"/><line style=\"stroke:#000000;stroke-width:1.5;\" x1=\"725\" x2=\"854\" y1=\"772.6563\" y2=\"772.6563\"/><text fill=\"#000000\" font-family=\"sans-serif\" font-size=\"14\" lengthAdjust=\"spacing\" textLength=\"77\" x=\"751\" y=\"767.3545\">SetVariable</text><rect fill=\"#F1F1F1\" height=\"33.9688\" rx=\"12.5\" ry=\"12.5\" style=\"stroke:#181818;stroke-width:0.5;\" width=\"109\" x=\"735\" y=\"788.6563\"/><text fill=\"#000000\" font-family=\"sans-serif\" font-size=\"12\" lengthAdjust=\"spacing\" textLength=\"89\" x=\"745\" y=\"809.7949\">SetTimestamp</text><rect fill=\"none\" height=\"90.2656\" style=\"stroke:#000000;stroke-width:1.5;\" width=\"180\" x=\"699.5\" y=\"877.625\"/><line style=\"stroke:#000000;stroke-width:1.5;\" x1=\"699.5\" x2=\"879.5\" y1=\"897.9219\" y2=\"897.9219\"/><text fill=\"#000000\" font-family=\"sans-serif\" font-size=\"14\" lengthAdjust=\"spacing\" textLength=\"68\" x=\"755.5\" y=\"892.6201\">Notebook</text><rect fill=\"#F1F1F1\" height=\"33.9688\" rx=\"12.5\" ry=\"12.5\" style=\"stroke:#181818;stroke-width:0.5;\" width=\"160\" x=\"709.5\" y=\"913.9219\"/><text fill=\"#000000\" font-family=\"sans-serif\" font-size=\"12\" lengthAdjust=\"spacing\" textLength=\"140\" x=\"719.5\" y=\"935.0605\">RestartLoadingControl</text><rect fill=\"none\" height=\"111.6953\" style=\"stroke:#000000;stroke-width:1.5;\" width=\"378\" x=\"470\" y=\"1002.8906\"/><line style=\"stroke:#000000;stroke-width:1.5;\" x1=\"470\" x2=\"848\" y1=\"1023.1875\" y2=\"1023.1875\"/><text fill=\"#000000\" font-family=\"sans-serif\" font-size=\"14\" lengthAdjust=\"spacing\" textLength=\"51\" x=\"633.5\" y=\"1017.8857\">Lookup</text><path d=\"M480,1039.1875 L480,1094.5859 A0,0 0 0 0 480,1094.5859 L721,1094.5859 A0,0 0 0 0 721,1094.5859 L721,1070.8867 L741,1066.8867 L721,1062.8867 L721,1049.1875 L711,1039.1875 L480,1039.1875 A0,0 0 0 0 480,1039.1875 \" fill=\"#FEFFDD\" style=\"stroke:#181818;stroke-width:0.5;\"/><path d=\"M711,1039.1875 L711,1049.1875 L721,1049.1875 L711,1039.1875 \" fill=\"#FEFFDD\" style=\"stroke:#181818;stroke-width:0.5;\"/><text fill=\"#000000\" font-family=\"sans-serif\" font-size=\"13\" lengthAdjust=\"spacing\" textLength=\"220\" x=\"486\" y=\"1056.2544\">Importante. Retorna um .json com</text><text fill=\"#000000\" font-family=\"sans-serif\" font-size=\"13\" lengthAdjust=\"spacing\" textLength=\"70\" x=\"486\" y=\"1071.3872\">as tabelas.</text><text fill=\"#000000\" font-family=\"sans-serif\" font-size=\"13\" lengthAdjust=\"spacing\" textLength=\"149\" x=\"486\" y=\"1086.52\">Usa tabela de controle.</text><rect fill=\"#F1F1F1\" height=\"33.9688\" rx=\"12.5\" ry=\"12.5\" style=\"stroke:#181818;stroke-width:0.5;\" width=\"97\" x=\"741\" y=\"1049.9023\"/><text fill=\"#000000\" font-family=\"sans-serif\" font-size=\"12\" lengthAdjust=\"spacing\" textLength=\"77\" x=\"751\" y=\"1071.041\">GetAllTables</text><rect fill=\"none\" height=\"90.2656\" style=\"stroke:#000000;stroke-width:1.5;\" width=\"132\" x=\"723.5\" y=\"1149.5859\"/><line style=\"stroke:#000000;stroke-width:1.5;\" x1=\"723.5\" x2=\"855.5\" y1=\"1169.8828\" y2=\"1169.8828\"/><text fill=\"#000000\" font-family=\"sans-serif\" font-size=\"14\" lengthAdjust=\"spacing\" textLength=\"56\" x=\"761.5\" y=\"1164.5811\">ForEach</text><rect fill=\"#F1F1F1\" height=\"33.9688\" rx=\"12.5\" ry=\"12.5\" style=\"stroke:#181818;stroke-width:0.5;\" width=\"112\" x=\"733.5\" y=\"1185.8828\"/><text fill=\"#000000\" font-family=\"sans-serif\" font-size=\"12\" lengthAdjust=\"spacing\" textLength=\"92\" x=\"743.5\" y=\"1207.0215\">ForEachTables</text><rect fill=\"none\" height=\"487.0313\" style=\"stroke:#000000;stroke-width:1.5;\" width=\"612\" x=\"331.5\" y=\"1274.8516\"/><line style=\"stroke:#000000;stroke-width:1.5;\" x1=\"331.5\" x2=\"943.5\" y1=\"1295.1484\" y2=\"1295.1484\"/><text fill=\"#000000\" font-family=\"sans-serif\" font-size=\"14\" lengthAdjust=\"spacing\" textLength=\"191\" x=\"542\" y=\"1289.8467\">SetCurrentDateForEachEnd</text><rect fill=\"#F1F1F1\" height=\"33.9688\" rx=\"12.5\" ry=\"12.5\" style=\"stroke:#181818;stroke-width:0.5;\" width=\"169\" x=\"705\" y=\"1311.1484\"/><text fill=\"#000000\" font-family=\"sans-serif\" font-size=\"12\" lengthAdjust=\"spacing\" textLength=\"149\" x=\"715\" y=\"1332.2871\">SetCurrentDateForEach</text><rect fill=\"none\" height=\"90.2656\" style=\"stroke:#000000;stroke-width:1.5;\" width=\"147\" x=\"716\" y=\"1380.1172\"/><line style=\"stroke:#000000;stroke-width:1.5;\" x1=\"716\" x2=\"863\" y1=\"1400.4141\" y2=\"1400.4141\"/><text fill=\"#000000\" font-family=\"sans-serif\" font-size=\"14\" lengthAdjust=\"spacing\" textLength=\"68\" x=\"755.5\" y=\"1395.1123\">Notebook</text><rect fill=\"#F1F1F1\" height=\"33.9688\" rx=\"12.5\" ry=\"12.5\" style=\"stroke:#181818;stroke-width:0.5;\" width=\"127\" x=\"726\" y=\"1416.4141\"/><text fill=\"#000000\" font-family=\"sans-serif\" font-size=\"12\" lengthAdjust=\"spacing\" textLength=\"107\" x=\"736\" y=\"1437.5527\">UpdateStartDate</text><path d=\"M341.5,1505.3828 L341.5,1575.9141 A0,0 0 0 0 341.5,1575.9141 L729.5,1575.9141 A0,0 0 0 0 729.5,1575.9141 L729.5,1544.6484 L749.5,1540.6484 L729.5,1536.6484 L729.5,1515.3828 L719.5,1505.3828 L341.5,1505.3828 A0,0 0 0 0 341.5,1505.3828 \" fill=\"#FEFFDD\" style=\"stroke:#181818;stroke-width:0.5;\"/><path d=\"M719.5,1505.3828 L719.5,1515.3828 L729.5,1515.3828 L719.5,1505.3828 \" fill=\"#FEFFDD\" style=\"stroke:#181818;stroke-width:0.5;\"/><text fill=\"#000000\" font-family=\"sans-serif\" font-size=\"13\" lengthAdjust=\"spacing\" textLength=\"367\" x=\"347.5\" y=\"1522.4497\">Source: planilhas excel, formato .xlsx (pre_landing_zone);</text><text fill=\"#000000\" font-family=\"sans-serif\" font-size=\"13\" lengthAdjust=\"spacing\" textLength=\"191\" x=\"347.5\" y=\"1537.5825\">Sink: parquet (landing_zone) ;</text><text fill=\"#000000\" font-family=\"sans-serif\" font-size=\"13\" lengthAdjust=\"spacing\" textLength=\"340\" x=\"347.5\" y=\"1552.7153\">folderName: @query na tabela de controle de carga ;</text><text fill=\"#000000\" font-family=\"sans-serif\" font-size=\"13\" lengthAdjust=\"spacing\" textLength=\"326\" x=\"347.5\" y=\"1567.8481\">fileName:: @query na tabela de controle de carga .</text><rect fill=\"#F1F1F1\" height=\"33.9688\" rx=\"12.5\" ry=\"12.5\" style=\"stroke:#181818;stroke-width:0.5;\" width=\"80\" x=\"749.5\" y=\"1523.6641\"/><text fill=\"#000000\" font-family=\"sans-serif\" font-size=\"12\" lengthAdjust=\"spacing\" textLength=\"60\" x=\"759.5\" y=\"1544.8027\">CopyData</text><polygon fill=\"#F1F1F1\" points=\"725,1610.9141,854,1610.9141,866,1622.9141,854,1634.9141,725,1634.9141,713,1622.9141,725,1610.9141\" style=\"stroke:#181818;stroke-width:0.5;\"/><text fill=\"#000000\" font-family=\"sans-serif\" font-size=\"11\" lengthAdjust=\"spacing\" textLength=\"129\" x=\"725\" y=\"1626.7222\">UpdateEndDateSucess</text><text fill=\"#000000\" font-family=\"sans-serif\" font-size=\"11\" lengthAdjust=\"spacing\" textLength=\"14\" x=\"699\" y=\"1620.3198\">no</text><text fill=\"#000000\" font-family=\"sans-serif\" font-size=\"11\" lengthAdjust=\"spacing\" textLength=\"4\" x=\"866\" y=\"1620.3198\"> </text><rect fill=\"#F1F1F1\" height=\"33.9688\" rx=\"12.5\" ry=\"12.5\" style=\"stroke:#181818;stroke-width:0.5;\" width=\"196\" x=\"605\" y=\"1644.9141\"/><text fill=\"#000000\" font-family=\"sans-serif\" font-size=\"12\" lengthAdjust=\"spacing\" textLength=\"176\" x=\"615\" y=\"1666.0527\">UpdateEndDateSucessError</text><ellipse cx=\"703\" cy=\"1724.8828\" rx=\"11\" ry=\"11\" style=\"stroke:#222222;stroke-width:1.0;fill:none;\"/><ellipse cx=\"703\" cy=\"1724.8828\" fill=\"#222222\" rx=\"6\" ry=\"6\" style=\"stroke:#111111;stroke-width:1.0;\"/><rect fill=\"#F1F1F1\" height=\"33.9688\" rx=\"12.5\" ry=\"12.5\" style=\"stroke:#181818;stroke-width:0.5;\" width=\"95\" x=\"828.5\" y=\"1644.9141\"/><text fill=\"#000000\" font-family=\"sans-serif\" font-size=\"12\" lengthAdjust=\"spacing\" textLength=\"75\" x=\"838.5\" y=\"1666.0527\">ForEachEnd</text><rect fill=\"none\" height=\"146.1406\" style=\"stroke:#000000;stroke-width:1.5;\" width=\"951\" x=\"31\" y=\"1796.8828\"/><line style=\"stroke:#000000;stroke-width:1.5;\" x1=\"31\" x2=\"982\" y1=\"1817.1797\" y2=\"1817.1797\"/><text fill=\"#000000\" font-family=\"sans-serif\" font-size=\"14\" lengthAdjust=\"spacing\" textLength=\"68\" x=\"472.5\" y=\"1811.8779\">Notebook</text><path d=\"M41,1857.9688 L41,1898.2344 A0,0 0 0 0 41,1898.2344 L587,1898.2344 A0,0 0 0 0 587,1898.2344 L587,1882.1016 L607,1878.1016 L587,1874.1016 L587,1867.9688 L577,1857.9688 L41,1857.9688 A0,0 0 0 0 41,1857.9688 \" fill=\"#FEFFDD\" style=\"stroke:#181818;stroke-width:0.5;\"/><path d=\"M577,1857.9688 L577,1867.9688 L587,1867.9688 L577,1857.9688 \" fill=\"#FEFFDD\" style=\"stroke:#181818;stroke-width:0.5;\"/><text fill=\"#000000\" font-family=\"sans-serif\" font-size=\"13\" lengthAdjust=\"spacing\" textLength=\"236\" x=\"47\" y=\"1875.0356\">Execução em paralelo de notebooks.</text><text fill=\"#000000\" font-family=\"sans-serif\" font-size=\"13\" lengthAdjust=\"spacing\" textLength=\"521\" x=\"47\" y=\"1890.1685\">Controle de duplicatas. Erros aparecem apenas no registro da tabela de controle.</text><rect fill=\"#F1F1F1\" height=\"89.8438\" rx=\"12.5\" ry=\"12.5\" style=\"stroke:#181818;stroke-width:0.5;\" width=\"365\" x=\"607\" y=\"1833.1797\"/><text fill=\"#000000\" font-family=\"sans-serif\" font-size=\"12\" lengthAdjust=\"spacing\" textLength=\"136\" x=\"617\" y=\"1854.3184\">LoadLandingToBronze</text><text fill=\"#000000\" font-family=\"sans-serif\" font-size=\"12\" lengthAdjust=\"spacing\" textLength=\"345\" x=\"617\" y=\"1868.2871\">-&gt; Campo de seleção do DataSet (SourceEnvironment)</text><ellipse cx=\"622.5\" cy=\"1877.5859\" fill=\"#000000\" rx=\"2.5\" ry=\"2.5\" style=\"stroke:#000000;stroke-width:0.0;\"/><text fill=\"#000000\" font-family=\"sans-serif\" font-size=\"12\" lengthAdjust=\"spacing\" textLength=\"226\" x=\"628\" y=\"1882.2559\">Uso do RunNotebooks (paralelismo)</text><text fill=\"#000000\" font-family=\"sans-serif\" font-size=\"12\" lengthAdjust=\"spacing\" textLength=\"280\" x=\"617\" y=\"1896.2246\">-&gt; Mais campos de config em RunNotebooks</text><text fill=\"#000000\" font-family=\"sans-serif\" font-size=\"12\" lengthAdjust=\"spacing\" textLength=\"252\" x=\"617\" y=\"1910.1934\">-&gt; Failues gravadas em pasta FAILURES/</text><rect fill=\"none\" height=\"90.2656\" style=\"stroke:#000000;stroke-width:1.5;\" width=\"113\" x=\"733\" y=\"1978.0234\"/><line style=\"stroke:#000000;stroke-width:1.5;\" x1=\"733\" x2=\"846\" y1=\"1998.3203\" y2=\"1998.3203\"/><text fill=\"#000000\" font-family=\"sans-serif\" font-size=\"14\" lengthAdjust=\"spacing\" textLength=\"29\" x=\"775\" y=\"1993.0186\">Wait</text><rect fill=\"#F1F1F1\" height=\"33.9688\" rx=\"12.5\" ry=\"12.5\" style=\"stroke:#181818;stroke-width:0.5;\" width=\"93\" x=\"743\" y=\"2014.3203\"/><text fill=\"#000000\" font-family=\"sans-serif\" font-size=\"12\" lengthAdjust=\"spacing\" textLength=\"73\" x=\"753\" y=\"2035.459\">EndPipeline</text><rect fill=\"none\" height=\"90.2656\" style=\"stroke:#000000;stroke-width:1.5;\" width=\"82\" x=\"748.5\" y=\"2123.2891\"/><line style=\"stroke:#000000;stroke-width:1.5;\" x1=\"748.5\" x2=\"830.5\" y1=\"2143.5859\" y2=\"2143.5859\"/><text fill=\"#000000\" font-family=\"sans-serif\" font-size=\"14\" lengthAdjust=\"spacing\" textLength=\"60\" x=\"759.5\" y=\"2138.2842\">Datalake</text><rect fill=\"#F1F1F1\" height=\"33.9688\" rx=\"12.5\" ry=\"12.5\" style=\"stroke:#181818;stroke-width:0.5;\" width=\"62\" x=\"758.5\" y=\"2159.5859\"/><text fill=\"#000000\" font-family=\"sans-serif\" font-size=\"12\" lengthAdjust=\"spacing\" textLength=\"42\" x=\"768.5\" y=\"2180.7246\">Bronze</text><ellipse cx=\"789.5\" cy=\"2258.5547\" rx=\"10\" ry=\"10\" style=\"stroke:#222222;stroke-width:1.5;fill:none;\"/><line style=\"stroke:#222222;stroke-width:2.5;fill:none;\" x1=\"783.3128\" x2=\"795.6872\" y1=\"2252.3675\" y2=\"2264.7419\"/><line style=\"stroke:#222222;stroke-width:2.5;fill:none;\" x1=\"795.6872\" x2=\"783.3128\" y1=\"2252.3675\" y2=\"2264.7419\"/><line style=\"stroke:#181818;stroke-width:1.0;fill:none;\" x1=\"789.5\" x2=\"789.5\" y1=\"67.2969\" y2=\"87.2969\"/><polygon fill=\"#181818\" points=\"785.5,77.2969,789.5,87.2969,793.5,77.2969,789.5,81.2969\" style=\"stroke:#181818;stroke-width:1.0;\"/><line style=\"stroke:#181818;stroke-width:1.0;\" x1=\"789.5\" x2=\"789.5\" y1=\"201.5313\" y2=\"236.5313\"/><polygon fill=\"#181818\" points=\"785.5,226.5313,789.5,236.5313,793.5,226.5313,789.5,230.5313\" style=\"stroke:#181818;stroke-width:1.0;\"/><line style=\"stroke:#181818;stroke-width:1.0;\" x1=\"789.5\" x2=\"789.5\" y1=\"270.5\" y2=\"305.5\"/><polygon fill=\"#181818\" points=\"785.5,295.5,789.5,305.5,793.5,295.5,789.5,299.5\" style=\"stroke:#181818;stroke-width:1.0;\"/><line style=\"stroke:#181818;stroke-width:1.0;\" x1=\"789.5\" x2=\"789.5\" y1=\"339.4688\" y2=\"441.1641\"/><polygon fill=\"#181818\" points=\"785.5,431.1641,789.5,441.1641,793.5,431.1641,789.5,435.1641\" style=\"stroke:#181818;stroke-width:1.0;\"/><line style=\"stroke:#181818;stroke-width:1.0;\" x1=\"789.5\" x2=\"789.5\" y1=\"697.3594\" y2=\"788.6563\"/><polygon fill=\"#181818\" points=\"785.5,778.6563,789.5,788.6563,793.5,778.6563,789.5,782.6563\" style=\"stroke:#181818;stroke-width:1.0;\"/><line style=\"stroke:#181818;stroke-width:1.0;\" x1=\"789.5\" x2=\"789.5\" y1=\"822.625\" y2=\"913.9219\"/><polygon fill=\"#181818\" points=\"785.5,903.9219,789.5,913.9219,793.5,903.9219,789.5,907.9219\" style=\"stroke:#181818;stroke-width:1.0;\"/><line style=\"stroke:#181818;stroke-width:1.0;\" x1=\"789.5\" x2=\"789.5\" y1=\"947.8906\" y2=\"1049.9023\"/><polygon fill=\"#181818\" points=\"785.5,1039.9023,789.5,1049.9023,793.5,1039.9023,789.5,1043.9023\" style=\"stroke:#181818;stroke-width:1.0;\"/><line style=\"stroke:#181818;stroke-width:1.0;\" x1=\"789.5\" x2=\"789.5\" y1=\"1083.8711\" y2=\"1185.8828\"/><polygon fill=\"#181818\" points=\"785.5,1175.8828,789.5,1185.8828,793.5,1175.8828,789.5,1179.8828\" style=\"stroke:#181818;stroke-width:1.0;\"/><line style=\"stroke:#181818;stroke-width:1.0;\" x1=\"789.5\" x2=\"789.5\" y1=\"1345.1172\" y2=\"1416.4141\"/><polygon fill=\"#181818\" points=\"785.5,1406.4141,789.5,1416.4141,793.5,1406.4141,789.5,1410.4141\" style=\"stroke:#181818;stroke-width:1.0;\"/><line style=\"stroke:#181818;stroke-width:1.0;\" x1=\"789.5\" x2=\"789.5\" y1=\"1450.3828\" y2=\"1523.6641\"/><polygon fill=\"#181818\" points=\"785.5,1513.6641,789.5,1523.6641,793.5,1513.6641,789.5,1517.6641\" style=\"stroke:#181818;stroke-width:1.0;\"/><line style=\"stroke:#181818;stroke-width:1.0;\" x1=\"703\" x2=\"703\" y1=\"1678.8828\" y2=\"1713.8828\"/><polygon fill=\"#181818\" points=\"699,1703.8828,703,1713.8828,707,1703.8828,703,1707.8828\" style=\"stroke:#181818;stroke-width:1.0;\"/><line style=\"stroke:#181818;stroke-width:1.0;\" x1=\"713\" x2=\"703\" y1=\"1622.9141\" y2=\"1622.9141\"/><line style=\"stroke:#181818;stroke-width:1.0;\" x1=\"703\" x2=\"703\" y1=\"1622.9141\" y2=\"1644.9141\"/><polygon fill=\"#181818\" points=\"699,1634.9141,703,1644.9141,707,1634.9141,703,1638.9141\" style=\"stroke:#181818;stroke-width:1.0;\"/><line style=\"stroke:#181818;stroke-width:1.0;\" x1=\"866\" x2=\"876\" y1=\"1622.9141\" y2=\"1622.9141\"/><line style=\"stroke:#181818;stroke-width:1.0;\" x1=\"876\" x2=\"876\" y1=\"1622.9141\" y2=\"1644.9141\"/><polygon fill=\"#181818\" points=\"872,1634.9141,876,1644.9141,880,1634.9141,876,1638.9141\" style=\"stroke:#181818;stroke-width:1.0;\"/><line style=\"stroke:#181818;stroke-width:1.0;\" x1=\"876\" x2=\"876\" y1=\"1678.8828\" y2=\"1741.8828\"/><line style=\"stroke:#181818;stroke-width:1.0;\" x1=\"876\" x2=\"789.5\" y1=\"1741.8828\" y2=\"1741.8828\"/><line style=\"stroke:#181818;stroke-width:1.0;\" x1=\"789.5\" x2=\"789.5\" y1=\"1741.8828\" y2=\"1833.1797\"/><polygon fill=\"#181818\" points=\"785.5,1823.1797,789.5,1833.1797,793.5,1823.1797,789.5,1827.1797\" style=\"stroke:#181818;stroke-width:1.0;\"/><line style=\"stroke:#181818;stroke-width:1.0;\" x1=\"789.5\" x2=\"789.5\" y1=\"1557.6328\" y2=\"1610.9141\"/><polygon fill=\"#181818\" points=\"785.5,1600.9141,789.5,1610.9141,793.5,1600.9141,789.5,1604.9141\" style=\"stroke:#181818;stroke-width:1.0;\"/><line style=\"stroke:#181818;stroke-width:1.0;\" x1=\"789.5\" x2=\"789.5\" y1=\"1219.8516\" y2=\"1311.1484\"/><polygon fill=\"#181818\" points=\"785.5,1301.1484,789.5,1311.1484,793.5,1301.1484,789.5,1305.1484\" style=\"stroke:#181818;stroke-width:1.0;\"/><line style=\"stroke:#181818;stroke-width:1.0;\" x1=\"789.5\" x2=\"789.5\" y1=\"1923.0234\" y2=\"2014.3203\"/><polygon fill=\"#181818\" points=\"785.5,2004.3203,789.5,2014.3203,793.5,2004.3203,789.5,2008.3203\" style=\"stroke:#181818;stroke-width:1.0;\"/><line style=\"stroke:#181818;stroke-width:1.0;\" x1=\"789.5\" x2=\"789.5\" y1=\"489.1016\" y2=\"663.3906\"/><polygon fill=\"#181818\" points=\"785.5,653.3906,789.5,663.3906,793.5,653.3906,789.5,657.3906\" style=\"stroke:#181818;stroke-width:1.0;\"/><line style=\"stroke:#181818;stroke-width:1.0;\" x1=\"789.5\" x2=\"789.5\" y1=\"2048.2891\" y2=\"2159.5859\"/><polygon fill=\"#181818\" points=\"785.5,2149.5859,789.5,2159.5859,793.5,2149.5859,789.5,2153.5859\" style=\"stroke:#181818;stroke-width:1.0;\"/><line style=\"stroke:#181818;stroke-width:1.0;\" x1=\"789.5\" x2=\"789.5\" y1=\"2193.5547\" y2=\"2248.5547\"/><polygon fill=\"#181818\" points=\"785.5,2238.5547,789.5,2248.5547,793.5,2238.5547,789.5,2242.5547\" style=\"stroke:#181818;stroke-width:1.0;\"/><line style=\"stroke:#181818;stroke-width:1.0;\" x1=\"789.5\" x2=\"789.5\" y1=\"121.2656\" y2=\"167.5625\"/><polygon fill=\"#181818\" points=\"785.5,157.5625,789.5,167.5625,793.5,157.5625,789.5,161.5625\" style=\"stroke:#181818;stroke-width:1.0;\"/><!--MD5=[f42bae38fbf2bb91faf0292605312623]\n@startuml\n\ntitle Arquitetura - Ingestão Planilhas Eletrônicas - Pipeline\nstart\n:Linked Service e Dataset configurados;\ncard \"Configuração Pipeline\" { \n:Pipeline ; \n:Create Folder;\n:Clonar Pipeline pronto (modelo) e renomear;\n:Parameters\nDefault value: CANALSEGURO;\nnote left\nÉ igual ao \"Source Environment\" da \ntabela de controle.\nend note\n\nnote right\nTabela de controle\n- -\nBusinessUnit \nDataBaseName\nSchemaName\nTableName\nProcessSucess\nProcessEnable\nZone (LANDING para BRONZE)\nLoadingType (APPEND)\nend note\nnote left\nPossui política de retry em \"Settings\"\nend note\n\ncard \"Pipeline\" { \n    card \"SetVariable\"  {\n:SetCurrentTime;\n}\n\ncard  \"SetVariable\"  {\n:SetTimestamp;\n}\ncard  \"Notebook\"  {\n:RestartLoadingControl;\n}\ncard  \"Lookup\"  {\n:GetAllTables;\n}\nnote \nImportante. Retorna um .json com\nas tabelas. \nUsa tabela de controle.\nend note\n\ncard  \"ForEach\"  {\n:ForEachTables;\n} \ncard SetCurrentDateForEachEnd {\n\n:SetCurrentDateForEach;\n\ncard \"Notebook\"{\n    :UpdateStartDate;\n}\n\n:CopyData;\nnote \nSource: planilhas excel, formato .xlsx (pre_landing_zone);\nSink: parquet (landing_zone) ; \nfolderName: @query na tabela de controle de carga ; \nfileName:: @query na tabela de controle de carga .\nend note\n\nif (UpdateEndDateSucess) then (no)\n:UpdateEndDateSucessError;\nstop\nelse ()\n:ForEachEnd;\n\nendif\n} \ncard  \"Notebook\"  {\n:LoadLandingToBronze\n-> Campo de seleção do DataSet (SourceEnvironment)\n* Uso do RunNotebooks (paralelismo)\n-> Mais campos de config em RunNotebooks\n-> Failues gravadas em pasta FAILURES/;\nnote left \nExecução em paralelo de notebooks.\nControle de duplicatas. Erros aparecem apenas no registro da tabela de controle. \nend note\n}\ncard  \"Wait\"  {\n:EndPipeline;\n}\n}\ncard \"Datalake\" {\n    :Bronze;\n}\n\nend\n@enduml \n\nPlantUML version 1.2022.4(Sat Apr 09 10:29:17 BRT 2022)\n(GPL source distribution)\nJava Runtime: OpenJDK Runtime Environment\nJVM: OpenJDK 64-Bit Server VM\nDefault Encoding: UTF-8\nLanguage: pt\nCountry: BR\n--></g></svg>",
      "text/plain": [
       "<IPython.core.display.SVG object>"
      ]
     },
     "execution_count": 13,
     "metadata": {},
     "output_type": "execute_result"
    }
   ],
   "source": [
    "%%plantuml --jar \n",
    "\n",
    "@startuml\n",
    "\n",
    "title Arquitetura - Ingestão Planilhas Eletrônicas - Pipeline\n",
    "start\n",
    ":Linked Service e Dataset configurados;\n",
    "card \"Configuração Pipeline\" { \n",
    ":Pipeline ; \n",
    ":Create Folder;\n",
    ":Clonar Pipeline pronto (modelo) e renomear;\n",
    ":Parameters\n",
    "Default value: CANALSEGURO;\n",
    "note left\n",
    "É igual ao \"Source Environment\" da \n",
    "tabela de controle.\n",
    "end note\n",
    "\n",
    "note right\n",
    "Tabela de controle\n",
    "--\n",
    "BusinessUnit \n",
    "DataBaseName\n",
    "SchemaName\n",
    "TableName\n",
    "ProcessSucess\n",
    "ProcessEnable\n",
    "Zone (LANDING para BRONZE)\n",
    "LoadingType (APPEND)\n",
    "end note\n",
    "note left\n",
    "Possui política de retry em \"Settings\"\n",
    "end note\n",
    "\n",
    "card \"Pipeline\" { \n",
    "    card \"SetVariable\"  {\n",
    ":SetCurrentTime;\n",
    "}\n",
    "\n",
    "card  \"SetVariable\"  {\n",
    ":SetTimestamp;\n",
    "}\n",
    "card  \"Notebook\"  {\n",
    ":RestartLoadingControl;\n",
    "}\n",
    "card  \"Lookup\"  {\n",
    ":GetAllTables;\n",
    "}\n",
    "note \n",
    "Importante. Retorna um .json com\n",
    "as tabelas. \n",
    "Usa tabela de controle.\n",
    "end note\n",
    "\n",
    "card  \"ForEach\"  {\n",
    ":ForEachTables;\n",
    "} \n",
    "card SetCurrentDateForEachEnd {\n",
    "\n",
    ":SetCurrentDateForEach;\n",
    "\n",
    "card \"Notebook\"{\n",
    "    :UpdateStartDate;\n",
    "}\n",
    "\n",
    ":CopyData;\n",
    "note \n",
    "Source: planilhas excel, formato .xlsx (pre_landing_zone);\n",
    "Sink: parquet (landing_zone) ; \n",
    "folderName: @query na tabela de controle de carga ; \n",
    "fileName:: @query na tabela de controle de carga .\n",
    "end note\n",
    "\n",
    "if (UpdateEndDateSucess) then (no)\n",
    ":UpdateEndDateSucessError;\n",
    "stop\n",
    "else ()\n",
    ":ForEachEnd;\n",
    "\n",
    "endif\n",
    "} \n",
    "card  \"Notebook\"  {\n",
    ":LoadLandingToBronze\n",
    "-> Campo de seleção do DataSet (SourceEnvironment)\n",
    "* Uso do RunNotebooks (paralelismo)\n",
    "-> Mais campos de config em RunNotebooks\n",
    "-> Failues gravadas em pasta FAILURES/;\n",
    "note left \n",
    "Execução em paralelo de notebooks.\n",
    "Controle de duplicatas. Erros aparecem apenas no registro da tabela de controle. \n",
    "end note\n",
    "}\n",
    "card  \"Wait\"  {\n",
    ":EndPipeline;\n",
    "}\n",
    "}\n",
    "card \"Datalake\" {\n",
    "    :Bronze;\n",
    "}\n",
    "\n",
    "end\n",
    "@enduml "
   ]
  },
  {
   "cell_type": "markdown",
   "id": "dd2d1f61",
   "metadata": {},
   "source": [
    "## Visão Geral das Capturas de Dados : "
   ]
  },
  {
   "cell_type": "code",
   "execution_count": 15,
   "id": "06d55ae2",
   "metadata": {
    "scrolled": true
   },
   "outputs": [
    {
     "data": {
      "image/svg+xml": "<svg xmlns=\"http://www.w3.org/2000/svg\" xmlns:xlink=\"http://www.w3.org/1999/xlink\" contentStyleType=\"text/css\" height=\"728px\" preserveAspectRatio=\"none\" style=\"width:842px;height:728px;background:#FFFFFF;\" version=\"1.1\" viewBox=\"0 0 842 728\" width=\"842px\" zoomAndPan=\"magnify\"><defs/><g><ellipse cx=\"458.25\" cy=\"20\" fill=\"#222222\" rx=\"10\" ry=\"10\" style=\"stroke:#222222;stroke-width:1.0;\"/><rect fill=\"none\" height=\"637.0469\" style=\"stroke:#000000;stroke-width:1.5;\" width=\"819\" x=\"11\" y=\"40\"/><line style=\"stroke:#000000;stroke-width:1.5;\" x1=\"11\" x2=\"830\" y1=\"60.2969\" y2=\"60.2969\"/><text fill=\"#000000\" font-family=\"sans-serif\" font-size=\"14\" lengthAdjust=\"spacing\" textLength=\"125\" x=\"358\" y=\"54.9951\">Captura de Dados</text><rect fill=\"#F1F1F1\" height=\"33.9688\" rx=\"12.5\" ry=\"12.5\" style=\"stroke:#181818;stroke-width:0.5;\" width=\"361\" x=\"277.75\" y=\"76.2969\"/><text fill=\"#000000\" font-family=\"sans-serif\" font-size=\"12\" lengthAdjust=\"spacing\" textLength=\"337\" x=\"291.75\" y=\"97.4355\">01. Abertura de chamado para criação de regra STCP</text><rect fill=\"#F1F1F1\" height=\"33.9688\" rx=\"12.5\" ry=\"12.5\" style=\"stroke:#181818;stroke-width:0.5;\" width=\"288\" x=\"314.25\" y=\"145.2656\"/><text fill=\"#000000\" font-family=\"sans-serif\" font-size=\"12\" lengthAdjust=\"spacing\" textLength=\"264\" x=\"328.25\" y=\"166.4043\">02.Configuração do Linked Service no ADF</text><rect fill=\"#F1F1F1\" height=\"33.9688\" rx=\"12.5\" ry=\"12.5\" style=\"stroke:#181818;stroke-width:0.5;\" width=\"264\" x=\"326.25\" y=\"214.2344\"/><text fill=\"#000000\" font-family=\"sans-serif\" font-size=\"12\" lengthAdjust=\"spacing\" textLength=\"240\" x=\"340.25\" y=\"235.373\">03. Configuração do Dataset genérico</text><polygon fill=\"#F1F1F1\" points=\"428.75,283.2031,487.75,283.2031,499.75,295.2031,487.75,307.2031,428.75,307.2031,416.75,295.2031,428.75,283.2031\" style=\"stroke:#181818;stroke-width:0.5;\"/><text fill=\"#000000\" font-family=\"sans-serif\" font-size=\"11\" lengthAdjust=\"spacing\" textLength=\"59\" x=\"428.75\" y=\"299.0112\">Notebook?</text><text fill=\"#000000\" font-family=\"sans-serif\" font-size=\"11\" lengthAdjust=\"spacing\" textLength=\"20\" x=\"396.75\" y=\"292.6089\">yes</text><text fill=\"#000000\" font-family=\"sans-serif\" font-size=\"11\" lengthAdjust=\"spacing\" textLength=\"14\" x=\"499.75\" y=\"292.6089\">no</text><rect fill=\"#F1F1F1\" height=\"33.9688\" rx=\"12.5\" ry=\"12.5\" style=\"stroke:#181818;stroke-width:0.5;\" width=\"455\" x=\"31\" y=\"317.2031\"/><text fill=\"#000000\" font-family=\"sans-serif\" font-size=\"12\" lengthAdjust=\"spacing\" textLength=\"431\" x=\"45\" y=\"338.3418\">04. Criação do Pipeline da captura de dados - Notebook Pre Landing</text><rect fill=\"#F1F1F1\" height=\"33.9688\" rx=\"12.5\" ry=\"12.5\" style=\"stroke:#181818;stroke-width:0.5;\" width=\"304\" x=\"506\" y=\"317.2031\"/><text fill=\"#000000\" font-family=\"sans-serif\" font-size=\"12\" lengthAdjust=\"spacing\" textLength=\"280\" x=\"520\" y=\"338.3418\">04. Criação do Pipeline da captura de dados</text><polygon fill=\"#F1F1F1\" points=\"458.25,357.1719,470.25,369.1719,458.25,381.1719,446.25,369.1719,458.25,357.1719\" style=\"stroke:#181818;stroke-width:0.5;\"/><rect fill=\"#F1F1F1\" height=\"33.9688\" rx=\"12.5\" ry=\"12.5\" style=\"stroke:#181818;stroke-width:0.5;\" width=\"536\" x=\"190.25\" y=\"416.1719\"/><text fill=\"#000000\" font-family=\"sans-serif\" font-size=\"12\" lengthAdjust=\"spacing\" textLength=\"512\" x=\"204.25\" y=\"437.3105\">05. Mapeamento das tabelas, chaves e filtros para a tabela de controle de carga</text><rect fill=\"#F1F1F1\" height=\"33.9688\" rx=\"12.5\" ry=\"12.5\" style=\"stroke:#181818;stroke-width:0.5;\" width=\"343\" x=\"286.75\" y=\"485.1406\"/><text fill=\"#000000\" font-family=\"sans-serif\" font-size=\"12\" lengthAdjust=\"spacing\" textLength=\"315\" x=\"300.75\" y=\"506.2793\">06. Inserir registros na tabela de contrle de carga</text><rect fill=\"#F1F1F1\" height=\"33.9688\" rx=\"12.5\" ry=\"12.5\" style=\"stroke:#181818;stroke-width:0.5;\" width=\"240\" x=\"338.25\" y=\"554.1094\"/><text fill=\"#000000\" font-family=\"sans-serif\" font-size=\"12\" lengthAdjust=\"spacing\" textLength=\"216\" x=\"352.25\" y=\"575.248\">07. Teste de execução de pipeline</text><rect fill=\"#F1F1F1\" height=\"33.9688\" rx=\"12.5\" ry=\"12.5\" style=\"stroke:#181818;stroke-width:0.5;\" width=\"306\" x=\"305.25\" y=\"623.0781\"/><text fill=\"#000000\" font-family=\"sans-serif\" font-size=\"12\" lengthAdjust=\"spacing\" textLength=\"278\" x=\"319.25\" y=\"644.2168\">08. Validação dos dadps ma camada bronze</text><ellipse cx=\"458.25\" cy=\"707.0469\" rx=\"10\" ry=\"10\" style=\"stroke:#222222;stroke-width:1.5;fill:none;\"/><line style=\"stroke:#222222;stroke-width:2.5;fill:none;\" x1=\"452.0628\" x2=\"464.4372\" y1=\"700.8597\" y2=\"713.2341\"/><line style=\"stroke:#222222;stroke-width:2.5;fill:none;\" x1=\"464.4372\" x2=\"452.0628\" y1=\"700.8597\" y2=\"713.2341\"/><line style=\"stroke:#181818;stroke-width:1.0;fill:none;\" x1=\"458.25\" x2=\"458.25\" y1=\"110.2656\" y2=\"145.2656\"/><polygon fill=\"#181818\" points=\"454.25,135.2656,458.25,145.2656,462.25,135.2656,458.25,139.2656\" style=\"stroke:#181818;stroke-width:1.0;\"/><line style=\"stroke:#181818;stroke-width:1.0;\" x1=\"458.25\" x2=\"458.25\" y1=\"179.2344\" y2=\"214.2344\"/><polygon fill=\"#181818\" points=\"454.25,204.2344,458.25,214.2344,462.25,204.2344,458.25,208.2344\" style=\"stroke:#181818;stroke-width:1.0;\"/><line style=\"stroke:#181818;stroke-width:1.0;\" x1=\"416.75\" x2=\"258.5\" y1=\"295.2031\" y2=\"295.2031\"/><line style=\"stroke:#181818;stroke-width:1.0;\" x1=\"258.5\" x2=\"258.5\" y1=\"295.2031\" y2=\"317.2031\"/><polygon fill=\"#181818\" points=\"254.5,307.2031,258.5,317.2031,262.5,307.2031,258.5,311.2031\" style=\"stroke:#181818;stroke-width:1.0;\"/><line style=\"stroke:#181818;stroke-width:1.0;\" x1=\"499.75\" x2=\"658\" y1=\"295.2031\" y2=\"295.2031\"/><line style=\"stroke:#181818;stroke-width:1.0;\" x1=\"658\" x2=\"658\" y1=\"295.2031\" y2=\"317.2031\"/><polygon fill=\"#181818\" points=\"654,307.2031,658,317.2031,662,307.2031,658,311.2031\" style=\"stroke:#181818;stroke-width:1.0;\"/><line style=\"stroke:#181818;stroke-width:1.0;\" x1=\"258.5\" x2=\"258.5\" y1=\"351.1719\" y2=\"369.1719\"/><line style=\"stroke:#181818;stroke-width:1.0;\" x1=\"258.5\" x2=\"446.25\" y1=\"369.1719\" y2=\"369.1719\"/><polygon fill=\"#181818\" points=\"436.25,365.1719,446.25,369.1719,436.25,373.1719,440.25,369.1719\" style=\"stroke:#181818;stroke-width:1.0;\"/><line style=\"stroke:#181818;stroke-width:1.0;\" x1=\"658\" x2=\"658\" y1=\"351.1719\" y2=\"369.1719\"/><line style=\"stroke:#181818;stroke-width:1.0;\" x1=\"658\" x2=\"470.25\" y1=\"369.1719\" y2=\"369.1719\"/><polygon fill=\"#181818\" points=\"480.25,365.1719,470.25,369.1719,480.25,373.1719,476.25,369.1719\" style=\"stroke:#181818;stroke-width:1.0;\"/><line style=\"stroke:#181818;stroke-width:1.0;\" x1=\"458.25\" x2=\"458.25\" y1=\"248.2031\" y2=\"283.2031\"/><polygon fill=\"#181818\" points=\"454.25,273.2031,458.25,283.2031,462.25,273.2031,458.25,277.2031\" style=\"stroke:#181818;stroke-width:1.0;\"/><line style=\"stroke:#181818;stroke-width:1.0;\" x1=\"458.25\" x2=\"458.25\" y1=\"381.1719\" y2=\"416.1719\"/><polygon fill=\"#181818\" points=\"454.25,406.1719,458.25,416.1719,462.25,406.1719,458.25,410.1719\" style=\"stroke:#181818;stroke-width:1.0;\"/><line style=\"stroke:#181818;stroke-width:1.0;\" x1=\"458.25\" x2=\"458.25\" y1=\"450.1406\" y2=\"485.1406\"/><polygon fill=\"#181818\" points=\"454.25,475.1406,458.25,485.1406,462.25,475.1406,458.25,479.1406\" style=\"stroke:#181818;stroke-width:1.0;\"/><line style=\"stroke:#181818;stroke-width:1.0;\" x1=\"458.25\" x2=\"458.25\" y1=\"519.1094\" y2=\"554.1094\"/><polygon fill=\"#181818\" points=\"454.25,544.1094,458.25,554.1094,462.25,544.1094,458.25,548.1094\" style=\"stroke:#181818;stroke-width:1.0;\"/><line style=\"stroke:#181818;stroke-width:1.0;\" x1=\"458.25\" x2=\"458.25\" y1=\"588.0781\" y2=\"623.0781\"/><polygon fill=\"#181818\" points=\"454.25,613.0781,458.25,623.0781,462.25,613.0781,458.25,617.0781\" style=\"stroke:#181818;stroke-width:1.0;\"/><line style=\"stroke:#181818;stroke-width:1.0;\" x1=\"458.25\" x2=\"458.25\" y1=\"30\" y2=\"76.2969\"/><polygon fill=\"#181818\" points=\"454.25,66.2969,458.25,76.2969,462.25,66.2969,458.25,70.2969\" style=\"stroke:#181818;stroke-width:1.0;\"/><line style=\"stroke:#181818;stroke-width:1.0;\" x1=\"458.25\" x2=\"458.25\" y1=\"657.0469\" y2=\"697.0469\"/><polygon fill=\"#181818\" points=\"454.25,687.0469,458.25,697.0469,462.25,687.0469,458.25,691.0469\" style=\"stroke:#181818;stroke-width:1.0;\"/><!--MD5=[0a865f26468945a0668ddf6c243db0e6]\n@startuml \n\nstart \n\ncard \"Captura de Dados\" {\n: 01. Abertura de chamado para criação de regra STCP;\n: 02.Configuração do Linked Service no ADF;\n: 03. Configuração do Dataset genérico;\nif (Notebook?) then (yes)\n: 04. Criação do Pipeline da captura de dados - Notebook Pre Landing;\nelse (no)\n: 04. Criação do Pipeline da captura de dados;\nendif\n: 05. Mapeamento das tabelas, chaves e filtros para a tabela de controle de carga;\n: 06. Inserir registros na tabela de contrle de carga ;\n: 07. Teste de execução de pipeline;\n: 08. Validação dos dadps ma camada bronze ;\n}\nend\n\n@enduml \n\nPlantUML version 1.2022.4(Sat Apr 09 10:29:17 BRT 2022)\n(GPL source distribution)\nJava Runtime: OpenJDK Runtime Environment\nJVM: OpenJDK 64-Bit Server VM\nDefault Encoding: UTF-8\nLanguage: pt\nCountry: BR\n--></g></svg>",
      "text/plain": [
       "<IPython.core.display.SVG object>"
      ]
     },
     "execution_count": 15,
     "metadata": {},
     "output_type": "execute_result"
    }
   ],
   "source": [
    "%%plantuml --jar\n",
    "\n",
    "@startuml \n",
    "\n",
    "start \n",
    "\n",
    "card \"Captura de Dados\" {\n",
    ": 01. Abertura de chamado para criação de regra STCP;\n",
    ": 02.Configuração do Linked Service no ADF;\n",
    ": 03. Configuração do Dataset genérico;\n",
    "if (Notebook?) then (yes)\n",
    ": 04. Criação do Pipeline da captura de dados - Notebook Pre Landing;\n",
    "else (no)\n",
    ": 04. Criação do Pipeline da captura de dados;\n",
    "endif\n",
    ": 05. Mapeamento das tabelas, chaves e filtros para a tabela de controle de carga;\n",
    ": 06. Inserir registros na tabela de contrle de carga ;\n",
    ": 07. Teste de execução de pipeline;\n",
    ": 08. Validação dos dadps ma camada bronze ;\n",
    "}\n",
    "end\n",
    "\n",
    "@enduml "
   ]
  },
  {
   "cell_type": "markdown",
   "id": "cfe57d33",
   "metadata": {},
   "source": [
    "### 1. JIRA "
   ]
  },
  {
   "cell_type": "code",
   "execution_count": 16,
   "id": "b855bacc",
   "metadata": {
    "scrolled": true
   },
   "outputs": [
    {
     "data": {
      "image/svg+xml": "<svg xmlns=\"http://www.w3.org/2000/svg\" xmlns:xlink=\"http://www.w3.org/1999/xlink\" contentStyleType=\"text/css\" height=\"765px\" preserveAspectRatio=\"none\" style=\"width:842px;height:765px;background:#FFFFFF;\" version=\"1.1\" viewBox=\"0 0 842 765\" width=\"842px\" zoomAndPan=\"magnify\"><defs/><g><rect height=\"26.2969\" style=\"stroke:#00000000;stroke-width:1.0;fill:none;\" width=\"175\" x=\"332\" y=\"15\"/><text fill=\"#000000\" font-family=\"sans-serif\" font-size=\"14\" font-weight=\"bold\" lengthAdjust=\"spacing\" textLength=\"165\" x=\"337\" y=\"32.9951\">JIRA - Em Verde Feito</text><ellipse cx=\"458.25\" cy=\"57.2969\" fill=\"#222222\" rx=\"10\" ry=\"10\" style=\"stroke:#222222;stroke-width:1.0;\"/><rect fill=\"none\" height=\"637.0469\" style=\"stroke:#000000;stroke-width:1.5;\" width=\"819\" x=\"11\" y=\"77.2969\"/><line style=\"stroke:#000000;stroke-width:1.5;\" x1=\"11\" x2=\"830\" y1=\"97.5938\" y2=\"97.5938\"/><text fill=\"#000000\" font-family=\"sans-serif\" font-size=\"14\" lengthAdjust=\"spacing\" textLength=\"125\" x=\"358\" y=\"92.292\">Captura de Dados</text><rect fill=\"#98FB98\" height=\"33.9688\" rx=\"12.5\" ry=\"12.5\" style=\"stroke:#181818;stroke-width:0.5;\" width=\"361\" x=\"277.75\" y=\"113.5938\"/><text fill=\"#000000\" font-family=\"sans-serif\" font-size=\"12\" lengthAdjust=\"spacing\" textLength=\"337\" x=\"291.75\" y=\"134.7324\">01. Abertura de chamado para criação de regra STCP</text><rect fill=\"#98FB98\" height=\"33.9688\" rx=\"12.5\" ry=\"12.5\" style=\"stroke:#181818;stroke-width:0.5;\" width=\"288\" x=\"314.25\" y=\"182.5625\"/><text fill=\"#000000\" font-family=\"sans-serif\" font-size=\"12\" lengthAdjust=\"spacing\" textLength=\"264\" x=\"328.25\" y=\"203.7012\">02.Configuração do Linked Service no ADF</text><rect fill=\"#98FB98\" height=\"33.9688\" rx=\"12.5\" ry=\"12.5\" style=\"stroke:#181818;stroke-width:0.5;\" width=\"264\" x=\"326.25\" y=\"251.5313\"/><text fill=\"#000000\" font-family=\"sans-serif\" font-size=\"12\" lengthAdjust=\"spacing\" textLength=\"240\" x=\"340.25\" y=\"272.6699\">03. Configuração do Dataset genérico</text><polygon fill=\"#F1F1F1\" points=\"428.75,320.5,487.75,320.5,499.75,332.5,487.75,344.5,428.75,344.5,416.75,332.5,428.75,320.5\" style=\"stroke:#181818;stroke-width:0.5;\"/><text fill=\"#000000\" font-family=\"sans-serif\" font-size=\"11\" lengthAdjust=\"spacing\" textLength=\"59\" x=\"428.75\" y=\"336.3081\">Notebook?</text><text fill=\"#000000\" font-family=\"sans-serif\" font-size=\"11\" lengthAdjust=\"spacing\" textLength=\"20\" x=\"396.75\" y=\"329.9058\">yes</text><text fill=\"#000000\" font-family=\"sans-serif\" font-size=\"11\" lengthAdjust=\"spacing\" textLength=\"14\" x=\"499.75\" y=\"329.9058\">no</text><rect fill=\"#98FB98\" height=\"33.9688\" rx=\"12.5\" ry=\"12.5\" style=\"stroke:#181818;stroke-width:0.5;\" width=\"455\" x=\"31\" y=\"354.5\"/><text fill=\"#000000\" font-family=\"sans-serif\" font-size=\"12\" lengthAdjust=\"spacing\" textLength=\"431\" x=\"45\" y=\"375.6387\">04. Criação do Pipeline da captura de dados - Notebook Pre Landing</text><rect fill=\"#98FB98\" height=\"33.9688\" rx=\"12.5\" ry=\"12.5\" style=\"stroke:#181818;stroke-width:0.5;\" width=\"304\" x=\"506\" y=\"354.5\"/><text fill=\"#000000\" font-family=\"sans-serif\" font-size=\"12\" lengthAdjust=\"spacing\" textLength=\"280\" x=\"520\" y=\"375.6387\">04. Criação do Pipeline da captura de dados</text><polygon fill=\"#F1F1F1\" points=\"458.25,394.4688,470.25,406.4688,458.25,418.4688,446.25,406.4688,458.25,394.4688\" style=\"stroke:#181818;stroke-width:0.5;\"/><rect fill=\"#98FB98\" height=\"33.9688\" rx=\"12.5\" ry=\"12.5\" style=\"stroke:#181818;stroke-width:0.5;\" width=\"536\" x=\"190.25\" y=\"453.4688\"/><text fill=\"#000000\" font-family=\"sans-serif\" font-size=\"12\" lengthAdjust=\"spacing\" textLength=\"512\" x=\"204.25\" y=\"474.6074\">05. Mapeamento das tabelas, chaves e filtros para a tabela de controle de carga</text><rect fill=\"#98FB98\" height=\"33.9688\" rx=\"12.5\" ry=\"12.5\" style=\"stroke:#181818;stroke-width:0.5;\" width=\"351\" x=\"282.75\" y=\"522.4375\"/><text fill=\"#000000\" font-family=\"sans-serif\" font-size=\"12\" lengthAdjust=\"spacing\" textLength=\"323\" x=\"296.75\" y=\"543.5762\">06. Inserir registros na tabela de controle de carga</text><rect fill=\"#F1F1F1\" height=\"33.9688\" rx=\"12.5\" ry=\"12.5\" style=\"stroke:#181818;stroke-width:0.5;\" width=\"240\" x=\"338.25\" y=\"591.4063\"/><text fill=\"#000000\" font-family=\"sans-serif\" font-size=\"12\" lengthAdjust=\"spacing\" textLength=\"216\" x=\"352.25\" y=\"612.5449\">07. Teste de execução de pipeline</text><rect fill=\"#F1F1F1\" height=\"33.9688\" rx=\"12.5\" ry=\"12.5\" style=\"stroke:#181818;stroke-width:0.5;\" width=\"306\" x=\"305.25\" y=\"660.375\"/><text fill=\"#000000\" font-family=\"sans-serif\" font-size=\"12\" lengthAdjust=\"spacing\" textLength=\"278\" x=\"319.25\" y=\"681.5137\">08. Validação dos dados ma camada bronze</text><ellipse cx=\"458.25\" cy=\"744.3438\" rx=\"10\" ry=\"10\" style=\"stroke:#222222;stroke-width:1.5;fill:none;\"/><line style=\"stroke:#222222;stroke-width:2.5;fill:none;\" x1=\"452.0628\" x2=\"464.4372\" y1=\"738.1566\" y2=\"750.5309\"/><line style=\"stroke:#222222;stroke-width:2.5;fill:none;\" x1=\"464.4372\" x2=\"452.0628\" y1=\"738.1566\" y2=\"750.5309\"/><line style=\"stroke:#181818;stroke-width:1.0;fill:none;\" x1=\"458.25\" x2=\"458.25\" y1=\"147.5625\" y2=\"182.5625\"/><polygon fill=\"#181818\" points=\"454.25,172.5625,458.25,182.5625,462.25,172.5625,458.25,176.5625\" style=\"stroke:#181818;stroke-width:1.0;\"/><line style=\"stroke:#181818;stroke-width:1.0;\" x1=\"458.25\" x2=\"458.25\" y1=\"216.5313\" y2=\"251.5313\"/><polygon fill=\"#181818\" points=\"454.25,241.5313,458.25,251.5313,462.25,241.5313,458.25,245.5313\" style=\"stroke:#181818;stroke-width:1.0;\"/><line style=\"stroke:#181818;stroke-width:1.0;\" x1=\"416.75\" x2=\"258.5\" y1=\"332.5\" y2=\"332.5\"/><line style=\"stroke:#181818;stroke-width:1.0;\" x1=\"258.5\" x2=\"258.5\" y1=\"332.5\" y2=\"354.5\"/><polygon fill=\"#181818\" points=\"254.5,344.5,258.5,354.5,262.5,344.5,258.5,348.5\" style=\"stroke:#181818;stroke-width:1.0;\"/><line style=\"stroke:#181818;stroke-width:1.0;\" x1=\"499.75\" x2=\"658\" y1=\"332.5\" y2=\"332.5\"/><line style=\"stroke:#181818;stroke-width:1.0;\" x1=\"658\" x2=\"658\" y1=\"332.5\" y2=\"354.5\"/><polygon fill=\"#181818\" points=\"654,344.5,658,354.5,662,344.5,658,348.5\" style=\"stroke:#181818;stroke-width:1.0;\"/><line style=\"stroke:#181818;stroke-width:1.0;\" x1=\"258.5\" x2=\"258.5\" y1=\"388.4688\" y2=\"406.4688\"/><line style=\"stroke:#181818;stroke-width:1.0;\" x1=\"258.5\" x2=\"446.25\" y1=\"406.4688\" y2=\"406.4688\"/><polygon fill=\"#181818\" points=\"436.25,402.4688,446.25,406.4688,436.25,410.4688,440.25,406.4688\" style=\"stroke:#181818;stroke-width:1.0;\"/><line style=\"stroke:#181818;stroke-width:1.0;\" x1=\"658\" x2=\"658\" y1=\"388.4688\" y2=\"406.4688\"/><line style=\"stroke:#181818;stroke-width:1.0;\" x1=\"658\" x2=\"470.25\" y1=\"406.4688\" y2=\"406.4688\"/><polygon fill=\"#181818\" points=\"480.25,402.4688,470.25,406.4688,480.25,410.4688,476.25,406.4688\" style=\"stroke:#181818;stroke-width:1.0;\"/><line style=\"stroke:#181818;stroke-width:1.0;\" x1=\"458.25\" x2=\"458.25\" y1=\"285.5\" y2=\"320.5\"/><polygon fill=\"#181818\" points=\"454.25,310.5,458.25,320.5,462.25,310.5,458.25,314.5\" style=\"stroke:#181818;stroke-width:1.0;\"/><line style=\"stroke:#181818;stroke-width:1.0;\" x1=\"458.25\" x2=\"458.25\" y1=\"418.4688\" y2=\"453.4688\"/><polygon fill=\"#181818\" points=\"454.25,443.4688,458.25,453.4688,462.25,443.4688,458.25,447.4688\" style=\"stroke:#181818;stroke-width:1.0;\"/><line style=\"stroke:#181818;stroke-width:1.0;\" x1=\"458.25\" x2=\"458.25\" y1=\"487.4375\" y2=\"522.4375\"/><polygon fill=\"#181818\" points=\"454.25,512.4375,458.25,522.4375,462.25,512.4375,458.25,516.4375\" style=\"stroke:#181818;stroke-width:1.0;\"/><line style=\"stroke:#181818;stroke-width:1.0;\" x1=\"458.25\" x2=\"458.25\" y1=\"556.4063\" y2=\"591.4063\"/><polygon fill=\"#181818\" points=\"454.25,581.4063,458.25,591.4063,462.25,581.4063,458.25,585.4063\" style=\"stroke:#181818;stroke-width:1.0;\"/><line style=\"stroke:#181818;stroke-width:1.0;\" x1=\"458.25\" x2=\"458.25\" y1=\"625.375\" y2=\"660.375\"/><polygon fill=\"#181818\" points=\"454.25,650.375,458.25,660.375,462.25,650.375,458.25,654.375\" style=\"stroke:#181818;stroke-width:1.0;\"/><line style=\"stroke:#181818;stroke-width:1.0;\" x1=\"458.25\" x2=\"458.25\" y1=\"67.2969\" y2=\"113.5938\"/><polygon fill=\"#181818\" points=\"454.25,103.5938,458.25,113.5938,462.25,103.5938,458.25,107.5938\" style=\"stroke:#181818;stroke-width:1.0;\"/><line style=\"stroke:#181818;stroke-width:1.0;\" x1=\"458.25\" x2=\"458.25\" y1=\"694.3438\" y2=\"734.3438\"/><polygon fill=\"#181818\" points=\"454.25,724.3438,458.25,734.3438,462.25,724.3438,458.25,728.3438\" style=\"stroke:#181818;stroke-width:1.0;\"/><!--MD5=[e30ab3454411cc0c43bb5075ce7468bc]\n@startuml \n\ntitle JIRA - Em Verde Feito\nstart \n\ncard \"Captura de Dados\" {\n#palegreen: 01. Abertura de chamado para criação de regra STCP;\n#palegreen: 02.Configuração do Linked Service no ADF;\n#palegreen: 03. Configuração do Dataset genérico;\nif (Notebook?) then (yes)\n#palegreen: 04. Criação do Pipeline da captura de dados - Notebook Pre Landing;\nelse (no)\n#palegreen: 04. Criação do Pipeline da captura de dados;\nendif\n#palegreen: 05. Mapeamento das tabelas, chaves e filtros para a tabela de controle de carga;\n#palegreen: 06. Inserir registros na tabela de controle de carga ;\n: 07. Teste de execução de pipeline;\n: 08. Validação dos dados ma camada bronze ;\n}\nend\n\n@enduml \n\nPlantUML version 1.2022.4(Sat Apr 09 10:29:17 BRT 2022)\n(GPL source distribution)\nJava Runtime: OpenJDK Runtime Environment\nJVM: OpenJDK 64-Bit Server VM\nDefault Encoding: UTF-8\nLanguage: pt\nCountry: BR\n--></g></svg>",
      "text/plain": [
       "<IPython.core.display.SVG object>"
      ]
     },
     "execution_count": 16,
     "metadata": {},
     "output_type": "execute_result"
    }
   ],
   "source": [
    "%%plantuml --jar\n",
    "\n",
    "@startuml \n",
    "\n",
    "title JIRA - Em Verde Feito\n",
    "start \n",
    "\n",
    "card \"Captura de Dados\" {\n",
    "#palegreen: 01. Abertura de chamado para criação de regra STCP;\n",
    "#palegreen: 02.Configuração do Linked Service no ADF;\n",
    "#palegreen: 03. Configuração do Dataset genérico;\n",
    "if (Notebook?) then (yes)\n",
    "#palegreen: 04. Criação do Pipeline da captura de dados - Notebook Pre Landing;\n",
    "else (no)\n",
    "#palegreen: 04. Criação do Pipeline da captura de dados;\n",
    "endif\n",
    "#palegreen: 05. Mapeamento das tabelas, chaves e filtros para a tabela de controle de carga;\n",
    "#palegreen: 06. Inserir registros na tabela de controle de carga ;\n",
    ": 07. Teste de execução de pipeline;\n",
    ": 08. Validação dos dados ma camada bronze ;\n",
    "}\n",
    "end\n",
    "\n",
    "@enduml "
   ]
  },
  {
   "cell_type": "markdown",
   "id": "a57f5a0f",
   "metadata": {},
   "source": [
    "### 2. ZURI"
   ]
  },
  {
   "cell_type": "code",
   "execution_count": 17,
   "id": "6253d7bb",
   "metadata": {
    "scrolled": true
   },
   "outputs": [
    {
     "data": {
      "image/svg+xml": "<svg xmlns=\"http://www.w3.org/2000/svg\" xmlns:xlink=\"http://www.w3.org/1999/xlink\" contentStyleType=\"text/css\" height=\"839px\" preserveAspectRatio=\"none\" style=\"width:579px;height:839px;background:#FFFFFF;\" version=\"1.1\" viewBox=\"0 0 579 839\" width=\"579px\" zoomAndPan=\"magnify\"><defs/><g><rect height=\"26.2969\" style=\"stroke:#00000000;stroke-width:1.0;fill:none;\" width=\"182\" x=\"197\" y=\"15\"/><text fill=\"#000000\" font-family=\"sans-serif\" font-size=\"14\" font-weight=\"bold\" lengthAdjust=\"spacing\" textLength=\"172\" x=\"202\" y=\"32.9951\">ZURI - Em Verde Feito</text><ellipse cx=\"289\" cy=\"57.2969\" fill=\"#222222\" rx=\"10\" ry=\"10\" style=\"stroke:#222222;stroke-width:1.0;\"/><rect fill=\"none\" height=\"710.9844\" style=\"stroke:#000000;stroke-width:1.5;\" width=\"556\" x=\"11\" y=\"77.2969\"/><line style=\"stroke:#000000;stroke-width:1.5;\" x1=\"11\" x2=\"567\" y1=\"97.5938\" y2=\"97.5938\"/><text fill=\"#000000\" font-family=\"sans-serif\" font-size=\"14\" lengthAdjust=\"spacing\" textLength=\"125\" x=\"226.5\" y=\"92.292\">Captura de Dados</text><rect fill=\"#98FB98\" height=\"33.9688\" rx=\"12.5\" ry=\"12.5\" style=\"stroke:#181818;stroke-width:0.5;\" width=\"361\" x=\"108.5\" y=\"113.5938\"/><text fill=\"#000000\" font-family=\"sans-serif\" font-size=\"12\" lengthAdjust=\"spacing\" textLength=\"337\" x=\"122.5\" y=\"134.7324\">01. Abertura de chamado para criação de regra STCP</text><rect fill=\"#98FB98\" height=\"33.9688\" rx=\"12.5\" ry=\"12.5\" style=\"stroke:#181818;stroke-width:0.5;\" width=\"393\" x=\"92.5\" y=\"182.5625\"/><text fill=\"#000000\" font-family=\"sans-serif\" font-size=\"12\" lengthAdjust=\"spacing\" textLength=\"369\" x=\"106.5\" y=\"203.7012\">02. Abertura de chamado para acesso ao banco de dados</text><rect fill=\"#98FB98\" height=\"33.9688\" rx=\"12.5\" ry=\"12.5\" style=\"stroke:#181818;stroke-width:0.5;\" width=\"288\" x=\"145\" y=\"251.5313\"/><text fill=\"#000000\" font-family=\"sans-serif\" font-size=\"12\" lengthAdjust=\"spacing\" textLength=\"264\" x=\"159\" y=\"272.6699\">03.Configuração do Linked Service no ADF</text><rect fill=\"#98FB98\" height=\"33.9688\" rx=\"12.5\" ry=\"12.5\" style=\"stroke:#181818;stroke-width:0.5;\" width=\"264\" x=\"157\" y=\"320.5\"/><text fill=\"#000000\" font-family=\"sans-serif\" font-size=\"12\" lengthAdjust=\"spacing\" textLength=\"240\" x=\"171\" y=\"341.6387\">04. Configuração do Dataset genérico</text><rect fill=\"#98FB98\" height=\"33.9688\" rx=\"12.5\" ry=\"12.5\" style=\"stroke:#181818;stroke-width:0.5;\" width=\"304\" x=\"137\" y=\"389.4688\"/><text fill=\"#000000\" font-family=\"sans-serif\" font-size=\"12\" lengthAdjust=\"spacing\" textLength=\"280\" x=\"151\" y=\"410.6074\">05. Criação do Pipeline da captura de dados</text><rect fill=\"#98FB98\" height=\"33.9688\" rx=\"12.5\" ry=\"12.5\" style=\"stroke:#181818;stroke-width:0.5;\" width=\"422\" x=\"78\" y=\"458.4375\"/><text fill=\"#000000\" font-family=\"sans-serif\" font-size=\"12\" lengthAdjust=\"spacing\" textLength=\"398\" x=\"92\" y=\"479.5762\">06. Criação do Pipeline da captura de dados - Dados Históricos</text><rect fill=\"#98FB98\" height=\"33.9688\" rx=\"12.5\" ry=\"12.5\" style=\"stroke:#181818;stroke-width:0.5;\" width=\"536\" x=\"21\" y=\"527.4063\"/><text fill=\"#000000\" font-family=\"sans-serif\" font-size=\"12\" lengthAdjust=\"spacing\" textLength=\"512\" x=\"35\" y=\"548.5449\">07. Mapeamento das tabelas, chaves e filtros para a tabela de controle de carga</text><rect fill=\"#98FB98\" height=\"33.9688\" rx=\"12.5\" ry=\"12.5\" style=\"stroke:#181818;stroke-width:0.5;\" width=\"351\" x=\"113.5\" y=\"596.375\"/><text fill=\"#000000\" font-family=\"sans-serif\" font-size=\"12\" lengthAdjust=\"spacing\" textLength=\"323\" x=\"127.5\" y=\"617.5137\">08. Inserir registros na tabela de controle de carga</text><rect fill=\"#F1F1F1\" height=\"33.9688\" rx=\"12.5\" ry=\"12.5\" style=\"stroke:#181818;stroke-width:0.5;\" width=\"240\" x=\"169\" y=\"665.3438\"/><text fill=\"#000000\" font-family=\"sans-serif\" font-size=\"12\" lengthAdjust=\"spacing\" textLength=\"216\" x=\"183\" y=\"686.4824\">09. Teste de execução de pipeline</text><rect fill=\"#F1F1F1\" height=\"33.9688\" rx=\"12.5\" ry=\"12.5\" style=\"stroke:#181818;stroke-width:0.5;\" width=\"303\" x=\"137.5\" y=\"734.3125\"/><text fill=\"#000000\" font-family=\"sans-serif\" font-size=\"12\" lengthAdjust=\"spacing\" textLength=\"275\" x=\"151.5\" y=\"755.4512\">10. Validação dos dados da camada bronze</text><ellipse cx=\"289\" cy=\"818.2813\" rx=\"10\" ry=\"10\" style=\"stroke:#222222;stroke-width:1.5;fill:none;\"/><line style=\"stroke:#222222;stroke-width:2.5;fill:none;\" x1=\"282.8128\" x2=\"295.1872\" y1=\"812.0941\" y2=\"824.4684\"/><line style=\"stroke:#222222;stroke-width:2.5;fill:none;\" x1=\"295.1872\" x2=\"282.8128\" y1=\"812.0941\" y2=\"824.4684\"/><line style=\"stroke:#181818;stroke-width:1.0;fill:none;\" x1=\"289\" x2=\"289\" y1=\"147.5625\" y2=\"182.5625\"/><polygon fill=\"#181818\" points=\"285,172.5625,289,182.5625,293,172.5625,289,176.5625\" style=\"stroke:#181818;stroke-width:1.0;\"/><line style=\"stroke:#181818;stroke-width:1.0;\" x1=\"289\" x2=\"289\" y1=\"216.5313\" y2=\"251.5313\"/><polygon fill=\"#181818\" points=\"285,241.5313,289,251.5313,293,241.5313,289,245.5313\" style=\"stroke:#181818;stroke-width:1.0;\"/><line style=\"stroke:#181818;stroke-width:1.0;\" x1=\"289\" x2=\"289\" y1=\"285.5\" y2=\"320.5\"/><polygon fill=\"#181818\" points=\"285,310.5,289,320.5,293,310.5,289,314.5\" style=\"stroke:#181818;stroke-width:1.0;\"/><line style=\"stroke:#181818;stroke-width:1.0;\" x1=\"289\" x2=\"289\" y1=\"354.4688\" y2=\"389.4688\"/><polygon fill=\"#181818\" points=\"285,379.4688,289,389.4688,293,379.4688,289,383.4688\" style=\"stroke:#181818;stroke-width:1.0;\"/><line style=\"stroke:#181818;stroke-width:1.0;\" x1=\"289\" x2=\"289\" y1=\"423.4375\" y2=\"458.4375\"/><polygon fill=\"#181818\" points=\"285,448.4375,289,458.4375,293,448.4375,289,452.4375\" style=\"stroke:#181818;stroke-width:1.0;\"/><line style=\"stroke:#181818;stroke-width:1.0;\" x1=\"289\" x2=\"289\" y1=\"492.4063\" y2=\"527.4063\"/><polygon fill=\"#181818\" points=\"285,517.4063,289,527.4063,293,517.4063,289,521.4063\" style=\"stroke:#181818;stroke-width:1.0;\"/><line style=\"stroke:#181818;stroke-width:1.0;\" x1=\"289\" x2=\"289\" y1=\"561.375\" y2=\"596.375\"/><polygon fill=\"#181818\" points=\"285,586.375,289,596.375,293,586.375,289,590.375\" style=\"stroke:#181818;stroke-width:1.0;\"/><line style=\"stroke:#181818;stroke-width:1.0;\" x1=\"289\" x2=\"289\" y1=\"630.3438\" y2=\"665.3438\"/><polygon fill=\"#181818\" points=\"285,655.3438,289,665.3438,293,655.3438,289,659.3438\" style=\"stroke:#181818;stroke-width:1.0;\"/><line style=\"stroke:#181818;stroke-width:1.0;\" x1=\"289\" x2=\"289\" y1=\"699.3125\" y2=\"734.3125\"/><polygon fill=\"#181818\" points=\"285,724.3125,289,734.3125,293,724.3125,289,728.3125\" style=\"stroke:#181818;stroke-width:1.0;\"/><line style=\"stroke:#181818;stroke-width:1.0;\" x1=\"289\" x2=\"289\" y1=\"67.2969\" y2=\"113.5938\"/><polygon fill=\"#181818\" points=\"285,103.5938,289,113.5938,293,103.5938,289,107.5938\" style=\"stroke:#181818;stroke-width:1.0;\"/><line style=\"stroke:#181818;stroke-width:1.0;\" x1=\"289\" x2=\"289\" y1=\"768.2813\" y2=\"808.2813\"/><polygon fill=\"#181818\" points=\"285,798.2813,289,808.2813,293,798.2813,289,802.2813\" style=\"stroke:#181818;stroke-width:1.0;\"/><!--MD5=[66896b48febc59ff565abe3b454d382f]\n@startuml \n\ntitle ZURI - Em Verde Feito\nstart \n\ncard \"Captura de Dados\" {\n#palegreen: 01. Abertura de chamado para criação de regra STCP;\n#palegreen: 02. Abertura de chamado para acesso ao banco de dados;\n#palegreen: 03.Configuração do Linked Service no ADF;\n#palegreen: 04. Configuração do Dataset genérico;\n#palegreen: 05. Criação do Pipeline da captura de dados;\n#palegreen: 06. Criação do Pipeline da captura de dados - Dados Históricos;\n#palegreen: 07. Mapeamento das tabelas, chaves e filtros para a tabela de controle de carga;\n#palegreen: 08. Inserir registros na tabela de controle de carga ;\n: 09. Teste de execução de pipeline;\n: 10. Validação dos dados da camada bronze ;\n}\nend\n\n@enduml \n\nPlantUML version 1.2022.4(Sat Apr 09 10:29:17 BRT 2022)\n(GPL source distribution)\nJava Runtime: OpenJDK Runtime Environment\nJVM: OpenJDK 64-Bit Server VM\nDefault Encoding: UTF-8\nLanguage: pt\nCountry: BR\n--></g></svg>",
      "text/plain": [
       "<IPython.core.display.SVG object>"
      ]
     },
     "execution_count": 17,
     "metadata": {},
     "output_type": "execute_result"
    }
   ],
   "source": [
    "%%plantuml --jar\n",
    "\n",
    "@startuml \n",
    "\n",
    "title ZURI - Em Verde Feito\n",
    "start \n",
    "\n",
    "card \"Captura de Dados\" {\n",
    "#palegreen: 01. Abertura de chamado para criação de regra STCP;\n",
    "#palegreen: 02. Abertura de chamado para acesso ao banco de dados;\n",
    "#palegreen: 03.Configuração do Linked Service no ADF;\n",
    "#palegreen: 04. Configuração do Dataset genérico;\n",
    "#palegreen: 05. Criação do Pipeline da captura de dados;\n",
    "#palegreen: 06. Criação do Pipeline da captura de dados - Dados Históricos;\n",
    "#palegreen: 07. Mapeamento das tabelas, chaves e filtros para a tabela de controle de carga;\n",
    "#palegreen: 08. Inserir registros na tabela de controle de carga ;\n",
    ": 09. Teste de execução de pipeline;\n",
    ": 10. Validação dos dados da camada bronze ;\n",
    "}\n",
    "end\n",
    "\n",
    "@enduml "
   ]
  },
  {
   "cell_type": "markdown",
   "id": "0d95e8cb",
   "metadata": {},
   "source": [
    "### 3. ELAW"
   ]
  },
  {
   "cell_type": "code",
   "execution_count": 18,
   "id": "140d834c",
   "metadata": {},
   "outputs": [
    {
     "data": {
      "image/svg+xml": "<svg xmlns=\"http://www.w3.org/2000/svg\" xmlns:xlink=\"http://www.w3.org/1999/xlink\" contentStyleType=\"text/css\" height=\"839px\" preserveAspectRatio=\"none\" style=\"width:579px;height:839px;background:#FFFFFF;\" version=\"1.1\" viewBox=\"0 0 579 839\" width=\"579px\" zoomAndPan=\"magnify\"><defs/><g><rect height=\"26.2969\" style=\"stroke:#00000000;stroke-width:1.0;fill:none;\" width=\"190\" x=\"193\" y=\"15\"/><text fill=\"#000000\" font-family=\"sans-serif\" font-size=\"14\" font-weight=\"bold\" lengthAdjust=\"spacing\" textLength=\"180\" x=\"198\" y=\"32.9951\">ELAW - Em Verde Feito</text><ellipse cx=\"289\" cy=\"57.2969\" fill=\"#222222\" rx=\"10\" ry=\"10\" style=\"stroke:#222222;stroke-width:1.0;\"/><rect fill=\"none\" height=\"710.9844\" style=\"stroke:#000000;stroke-width:1.5;\" width=\"556\" x=\"11\" y=\"77.2969\"/><line style=\"stroke:#000000;stroke-width:1.5;\" x1=\"11\" x2=\"567\" y1=\"97.5938\" y2=\"97.5938\"/><text fill=\"#000000\" font-family=\"sans-serif\" font-size=\"14\" lengthAdjust=\"spacing\" textLength=\"125\" x=\"226.5\" y=\"92.292\">Captura de Dados</text><rect fill=\"#F1F1F1\" height=\"33.9688\" rx=\"12.5\" ry=\"12.5\" style=\"stroke:#181818;stroke-width:0.5;\" width=\"368\" x=\"105\" y=\"113.5938\"/><text fill=\"#000000\" font-family=\"sans-serif\" font-size=\"12\" lengthAdjust=\"spacing\" textLength=\"344\" x=\"119\" y=\"134.7324\">01. Abertura de chamado para criação de regra SFTCP</text><rect fill=\"#F1F1F1\" height=\"33.9688\" rx=\"12.5\" ry=\"12.5\" style=\"stroke:#181818;stroke-width:0.5;\" width=\"393\" x=\"92.5\" y=\"182.5625\"/><text fill=\"#000000\" font-family=\"sans-serif\" font-size=\"12\" lengthAdjust=\"spacing\" textLength=\"369\" x=\"106.5\" y=\"203.7012\">02. Abertura de chamado para acesso ao banco de dados</text><rect fill=\"#F1F1F1\" height=\"33.9688\" rx=\"12.5\" ry=\"12.5\" style=\"stroke:#181818;stroke-width:0.5;\" width=\"288\" x=\"145\" y=\"251.5313\"/><text fill=\"#000000\" font-family=\"sans-serif\" font-size=\"12\" lengthAdjust=\"spacing\" textLength=\"264\" x=\"159\" y=\"272.6699\">03.Configuração do Linked Service no ADF</text><rect fill=\"#F1F1F1\" height=\"33.9688\" rx=\"12.5\" ry=\"12.5\" style=\"stroke:#181818;stroke-width:0.5;\" width=\"264\" x=\"157\" y=\"320.5\"/><text fill=\"#000000\" font-family=\"sans-serif\" font-size=\"12\" lengthAdjust=\"spacing\" textLength=\"240\" x=\"171\" y=\"341.6387\">04. Configuração do Dataset genérico</text><rect fill=\"#F1F1F1\" height=\"33.9688\" rx=\"12.5\" ry=\"12.5\" style=\"stroke:#181818;stroke-width:0.5;\" width=\"304\" x=\"137\" y=\"389.4688\"/><text fill=\"#000000\" font-family=\"sans-serif\" font-size=\"12\" lengthAdjust=\"spacing\" textLength=\"280\" x=\"151\" y=\"410.6074\">05. Criação do Pipeline da captura de dados</text><rect fill=\"#F1F1F1\" height=\"33.9688\" rx=\"12.5\" ry=\"12.5\" style=\"stroke:#181818;stroke-width:0.5;\" width=\"422\" x=\"78\" y=\"458.4375\"/><text fill=\"#000000\" font-family=\"sans-serif\" font-size=\"12\" lengthAdjust=\"spacing\" textLength=\"398\" x=\"92\" y=\"479.5762\">06. Criação do Pipeline da captura de dados - Dados Históricos</text><rect fill=\"#F1F1F1\" height=\"33.9688\" rx=\"12.5\" ry=\"12.5\" style=\"stroke:#181818;stroke-width:0.5;\" width=\"536\" x=\"21\" y=\"527.4063\"/><text fill=\"#000000\" font-family=\"sans-serif\" font-size=\"12\" lengthAdjust=\"spacing\" textLength=\"512\" x=\"35\" y=\"548.5449\">07. Mapeamento das tabelas, chaves e filtros para a tabela de controle de carga</text><rect fill=\"#F1F1F1\" height=\"33.9688\" rx=\"12.5\" ry=\"12.5\" style=\"stroke:#181818;stroke-width:0.5;\" width=\"351\" x=\"113.5\" y=\"596.375\"/><text fill=\"#000000\" font-family=\"sans-serif\" font-size=\"12\" lengthAdjust=\"spacing\" textLength=\"323\" x=\"127.5\" y=\"617.5137\">08. Inserir registros na tabela de controle de carga</text><rect fill=\"#F1F1F1\" height=\"33.9688\" rx=\"12.5\" ry=\"12.5\" style=\"stroke:#181818;stroke-width:0.5;\" width=\"240\" x=\"169\" y=\"665.3438\"/><text fill=\"#000000\" font-family=\"sans-serif\" font-size=\"12\" lengthAdjust=\"spacing\" textLength=\"216\" x=\"183\" y=\"686.4824\">09. Teste de execução de pipeline</text><rect fill=\"#F1F1F1\" height=\"33.9688\" rx=\"12.5\" ry=\"12.5\" style=\"stroke:#181818;stroke-width:0.5;\" width=\"303\" x=\"137.5\" y=\"734.3125\"/><text fill=\"#000000\" font-family=\"sans-serif\" font-size=\"12\" lengthAdjust=\"spacing\" textLength=\"275\" x=\"151.5\" y=\"755.4512\">10. Validação dos dados da camada bronze</text><ellipse cx=\"289\" cy=\"818.2813\" rx=\"10\" ry=\"10\" style=\"stroke:#222222;stroke-width:1.5;fill:none;\"/><line style=\"stroke:#222222;stroke-width:2.5;fill:none;\" x1=\"282.8128\" x2=\"295.1872\" y1=\"812.0941\" y2=\"824.4684\"/><line style=\"stroke:#222222;stroke-width:2.5;fill:none;\" x1=\"295.1872\" x2=\"282.8128\" y1=\"812.0941\" y2=\"824.4684\"/><line style=\"stroke:#181818;stroke-width:1.0;fill:none;\" x1=\"289\" x2=\"289\" y1=\"147.5625\" y2=\"182.5625\"/><polygon fill=\"#181818\" points=\"285,172.5625,289,182.5625,293,172.5625,289,176.5625\" style=\"stroke:#181818;stroke-width:1.0;\"/><line style=\"stroke:#181818;stroke-width:1.0;\" x1=\"289\" x2=\"289\" y1=\"216.5313\" y2=\"251.5313\"/><polygon fill=\"#181818\" points=\"285,241.5313,289,251.5313,293,241.5313,289,245.5313\" style=\"stroke:#181818;stroke-width:1.0;\"/><line style=\"stroke:#181818;stroke-width:1.0;\" x1=\"289\" x2=\"289\" y1=\"285.5\" y2=\"320.5\"/><polygon fill=\"#181818\" points=\"285,310.5,289,320.5,293,310.5,289,314.5\" style=\"stroke:#181818;stroke-width:1.0;\"/><line style=\"stroke:#181818;stroke-width:1.0;\" x1=\"289\" x2=\"289\" y1=\"354.4688\" y2=\"389.4688\"/><polygon fill=\"#181818\" points=\"285,379.4688,289,389.4688,293,379.4688,289,383.4688\" style=\"stroke:#181818;stroke-width:1.0;\"/><line style=\"stroke:#181818;stroke-width:1.0;\" x1=\"289\" x2=\"289\" y1=\"423.4375\" y2=\"458.4375\"/><polygon fill=\"#181818\" points=\"285,448.4375,289,458.4375,293,448.4375,289,452.4375\" style=\"stroke:#181818;stroke-width:1.0;\"/><line style=\"stroke:#181818;stroke-width:1.0;\" x1=\"289\" x2=\"289\" y1=\"492.4063\" y2=\"527.4063\"/><polygon fill=\"#181818\" points=\"285,517.4063,289,527.4063,293,517.4063,289,521.4063\" style=\"stroke:#181818;stroke-width:1.0;\"/><line style=\"stroke:#181818;stroke-width:1.0;\" x1=\"289\" x2=\"289\" y1=\"561.375\" y2=\"596.375\"/><polygon fill=\"#181818\" points=\"285,586.375,289,596.375,293,586.375,289,590.375\" style=\"stroke:#181818;stroke-width:1.0;\"/><line style=\"stroke:#181818;stroke-width:1.0;\" x1=\"289\" x2=\"289\" y1=\"630.3438\" y2=\"665.3438\"/><polygon fill=\"#181818\" points=\"285,655.3438,289,665.3438,293,655.3438,289,659.3438\" style=\"stroke:#181818;stroke-width:1.0;\"/><line style=\"stroke:#181818;stroke-width:1.0;\" x1=\"289\" x2=\"289\" y1=\"699.3125\" y2=\"734.3125\"/><polygon fill=\"#181818\" points=\"285,724.3125,289,734.3125,293,724.3125,289,728.3125\" style=\"stroke:#181818;stroke-width:1.0;\"/><line style=\"stroke:#181818;stroke-width:1.0;\" x1=\"289\" x2=\"289\" y1=\"67.2969\" y2=\"113.5938\"/><polygon fill=\"#181818\" points=\"285,103.5938,289,113.5938,293,103.5938,289,107.5938\" style=\"stroke:#181818;stroke-width:1.0;\"/><line style=\"stroke:#181818;stroke-width:1.0;\" x1=\"289\" x2=\"289\" y1=\"768.2813\" y2=\"808.2813\"/><polygon fill=\"#181818\" points=\"285,798.2813,289,808.2813,293,798.2813,289,802.2813\" style=\"stroke:#181818;stroke-width:1.0;\"/><!--MD5=[469b6e3dac8fdddf9c87e9e37df98f40]\n@startuml \n\ntitle ELAW - Em Verde Feito\nstart \n\ncard \"Captura de Dados\" {\n: 01. Abertura de chamado para criação de regra SFTCP;\n: 02. Abertura de chamado para acesso ao banco de dados;\n: 03.Configuração do Linked Service no ADF;\n: 04. Configuração do Dataset genérico;\n: 05. Criação do Pipeline da captura de dados;\n: 06. Criação do Pipeline da captura de dados - Dados Históricos;\n: 07. Mapeamento das tabelas, chaves e filtros para a tabela de controle de carga;\n: 08. Inserir registros na tabela de controle de carga ;\n: 09. Teste de execução de pipeline;\n: 10. Validação dos dados da camada bronze ;\n}\nend\n\n@enduml \n\nPlantUML version 1.2022.4(Sat Apr 09 10:29:17 BRT 2022)\n(GPL source distribution)\nJava Runtime: OpenJDK Runtime Environment\nJVM: OpenJDK 64-Bit Server VM\nDefault Encoding: UTF-8\nLanguage: pt\nCountry: BR\n--></g></svg>",
      "text/plain": [
       "<IPython.core.display.SVG object>"
      ]
     },
     "execution_count": 18,
     "metadata": {},
     "output_type": "execute_result"
    }
   ],
   "source": [
    "%%plantuml --jar \n",
    "\n",
    "@startuml \n",
    "\n",
    "title ELAW - Em Verde Feito\n",
    "start \n",
    "\n",
    "card \"Captura de Dados\" {\n",
    ": 01. Abertura de chamado para criação de regra SFTCP;\n",
    ": 02. Abertura de chamado para acesso ao banco de dados;\n",
    ": 03.Configuração do Linked Service no ADF;\n",
    ": 04. Configuração do Dataset genérico;\n",
    ": 05. Criação do Pipeline da captura de dados;\n",
    ": 06. Criação do Pipeline da captura de dados - Dados Históricos;\n",
    ": 07. Mapeamento das tabelas, chaves e filtros para a tabela de controle de carga;\n",
    ": 08. Inserir registros na tabela de controle de carga ;\n",
    ": 09. Teste de execução de pipeline;\n",
    ": 10. Validação dos dados da camada bronze ;\n",
    "}\n",
    "end\n",
    "\n",
    "@enduml "
   ]
  },
  {
   "cell_type": "code",
   "execution_count": null,
   "id": "8eb7f713",
   "metadata": {},
   "outputs": [],
   "source": []
  },
  {
   "cell_type": "code",
   "execution_count": null,
   "id": "82c4cc5e",
   "metadata": {},
   "outputs": [],
   "source": []
  },
  {
   "cell_type": "code",
   "execution_count": null,
   "id": "91ca40ee",
   "metadata": {},
   "outputs": [],
   "source": []
  }
 ],
 "metadata": {
  "kernelspec": {
   "display_name": "Python 3.6.8 64-bit",
   "language": "python",
   "name": "python3"
  },
  "language_info": {
   "codemirror_mode": {
    "name": "ipython",
    "version": 3
   },
   "file_extension": ".py",
   "mimetype": "text/x-python",
   "name": "python",
   "nbconvert_exporter": "python",
   "pygments_lexer": "ipython3",
   "version": "3.6.8"
  },
  "varInspector": {
   "cols": {
    "lenName": 16,
    "lenType": 16,
    "lenVar": 40
   },
   "kernels_config": {
    "python": {
     "delete_cmd_postfix": "",
     "delete_cmd_prefix": "del ",
     "library": "var_list.py",
     "varRefreshCmd": "print(var_dic_list())"
    },
    "r": {
     "delete_cmd_postfix": ") ",
     "delete_cmd_prefix": "rm(",
     "library": "var_list.r",
     "varRefreshCmd": "cat(var_dic_list()) "
    }
   },
   "types_to_exclude": [
    "module",
    "function",
    "builtin_function_or_method",
    "instance",
    "_Feature"
   ],
   "window_display": false
  },
  "vscode": {
   "interpreter": {
    "hash": "916dbcbb3f70747c44a77c7bcd40155683ae19c65e1c03b4aa3499c5328201f1"
   }
  }
 },
 "nbformat": 4,
 "nbformat_minor": 5
}
